{
 "metadata": {
  "name": "",
  "signature": "sha256:217e9a4b8e606e476397d0f49a599c4eab567dc33b7979bd33b44f2f4c32f105"
 },
 "nbformat": 3,
 "nbformat_minor": 0,
 "worksheets": [
  {
   "cells": [
    {
     "cell_type": "heading",
     "level": 1,
     "metadata": {},
     "source": [
      "Topic Modeling for Fun and Profit"
     ]
    },
    {
     "cell_type": "markdown",
     "metadata": {},
     "source": [
      "In this notebook we'll\n",
      "\n",
      "* vectorize a streamed corpus\n",
      "* run topic modeling on streamed vectors, using gensim\n",
      "* explore how to choose, evaluate and tweak topic modeling parameters\n",
      "* persist trained models to disk, for later re-use"
     ]
    },
    {
     "cell_type": "markdown",
     "metadata": {},
     "source": [
      "In the previous notebook `1 - Streamed Corpora` we used the 20newsgroups corpus to demonstrate data preprocessing and streaming.\n",
      "\n",
      "Now we'll switch to the English Wikipedia and do some topic modeling."
     ]
    },
    {
     "cell_type": "code",
     "collapsed": false,
     "input": [
      "# import and setup modules we'll be using in this notebook\n",
      "import logging\n",
      "import itertools\n",
      "\n",
      "import gensim\n",
      "\n",
      "logging.basicConfig(format='%(levelname)s : %(message)s', level=logging.INFO)\n",
      "logging.root.level = logging.INFO  # ipython sometimes messes up the logging setup; restore"
     ],
     "language": "python",
     "metadata": {},
     "outputs": [],
     "prompt_number": 11
    },
    {
     "cell_type": "heading",
     "level": 2,
     "metadata": {},
     "source": [
      "Wikipedia corpus"
     ]
    },
    {
     "cell_type": "markdown",
     "metadata": {},
     "source": [
      "Let's use the now-familiar pattern of streaming over an entire Wikipedia dump, without unzipping the raw file:"
     ]
    },
    {
     "cell_type": "code",
     "collapsed": false,
     "input": [
      "from gensim.utils import smart_open, simple_preprocess\n",
      "from gensim.corpora.wikicorpus import _extract_pages, filter_wiki\n",
      "from gensim.parsing.preprocessing import STOPWORDS\n",
      "\n",
      "def iter_wiki(dump_file):\n",
      "    ignore_namespaces = 'Wikipedia Category File Portal Template MediaWiki User Help Book Draft'.split()\n",
      "    for title, text, pageid in _extract_pages(smart_open(dump_file)):\n",
      "        text = filter_wiki(text)\n",
      "        tokens = [token for token in simple_preprocess(text) if token not in STOPWORDS]\n",
      "        if len(tokens) < 50 or any(title.startswith(ignore + ':') for ignore in ignore_namespaces):\n",
      "            continue\n",
      "        yield tokens\n",
      "\n",
      "# only use simplewiki in this tutorial (fewer documents)\n",
      "# the full wiki dump is exactly the same format, but larger\n",
      "stream = iter_wiki('./data/simplewiki-20140623-pages-articles.xml.bz2')\n",
      "print(list(itertools.islice(stream, 2)))"
     ],
     "language": "python",
     "metadata": {},
     "outputs": [
      {
       "output_type": "stream",
       "stream": "stdout",
       "text": [
        "[[u'april', u'fourth', u'month', u'year', u'comes', u'march', u'days', u'april', u'begins', u'day', u'week', u'july', u'years', u'january', u'leap', u'years', u'april', u'flowers', u'sweet', u'pea', u'daisy', u'birthstone', u'diamond', u'meaning', u'diamond', u'innocence', u'month', u'spring', u'flowers', u'april', u'northern', u'hemisphere', u'april', u'comes', u'march', u'making', u'fourth', u'month', u'year', u'comes', u'year', u'months', u'days', u'june', u'september', u'november', u'later', u'year', u'starts', u'day', u'week', u'july', u'year', u'starts', u'day', u'january', u'leap', u'years', u'common', u'year', u'april', u'starts', u'day', u'week', u'october', u'previous', u'year', u'leap', u'years', u'starts', u'day', u'previous', u'year', u'april', u'ends', u'day', u'week', u'december', u'year', u'common', u'year', u'ends', u'day', u'july', u'previous', u'year', u'leap', u'year', u'ends', u'day', u'october', u'previous', u'year', u'april', u'spring', u'month', u'northern', u'hemisphere', u'autumn', u'fall', u'month', u'southern', u'hemisphere', u'hemisphere', u'seasonal', u'equivalent', u'october', u'unclear', u'april', u'got', u'common', u'theory', u'comes', u'latin', u'word', u'aperire', u'meaning', u'open', u'referring', u'flowers', u'opening', u'spring', u'theory', u'come', u'aphrodite', u'greek', u'goddess', u'love', u'originally', u'second', u'month', u'old', u'roman', u'calendar', u'start', u'new', u'year', u'january', u'festivals', u'held', u'month', u'southeast', u'asian', u'cultures', u'new', u'year', u'celebrated', u'month', u'western', u'christianity', u'easter', u'celebrated', u'sunday', u'march', u'april', u'orthodox', u'christianity', u'fall', u'april', u'end', u'month', u'central', u'northern', u'european', u'cultures', u'celebrate', u'walpurgis', u'night', u'april', u'marking', u'transition', u'winter', u'summer', u'april', u'poetry', u'poets', u'use', u'april', u'mean', u'end', u'winter', u'example', u'april', u'showers', u'bring', u'flowers', u'events', u'april', u'fixed', u'events', u'april', u'fools', u'day', u'hoax', u'april', u'copenhagen', u'proposed', u'flag', u'earth', u'day', u'april', u'saint', u'george', u'day', u'april', u'london', u'trafalgar', u'square', u'anzac', u'day', u'commemoration', u'australia', u'april', u'queen', u'day', u'april', u'celebration', u'netherlands', u'change', u'king', u'day', u'april', u'walpurgis', u'night', u'bonfire', u'april', u'sweden', u'april', u'april', u'fools', u'day', u'april', u'islamic', u'republic', u'day', u'iran', u'april', u'international', u'children', u'book', u'day', u'april', u'thai', u'heritage', u'conservation', u'day', u'april', u'world', u'autism', u'awareness', u'day', u'april', u'malvinas', u'day', u'argentina', u'april', u'independence', u'day', u'senegal', u'april', u'international', u'day', u'landmine', u'awareness', u'assistance', u'april', u'peace', u'day', u'angola', u'april', u'end', u'tax', u'year', u'united', u'kingdom', u'april', u'tartan', u'day', u'canada', u'united', u'states', u'april', u'chakri', u'day', u'thailand', u'april', u'day', u'maternity', u'beauty', u'armenia', u'april', u'genocide', u'memorial', u'day', u'rwanda', u'april', u'world', u'health', u'day', u'april', u'women', u'day', u'mozambique', u'april', u'buddha', u'birthday', u'buddhism', u'april', u'martyrs', u'day', u'tunisia', u'april', u'day', u'national', u'unity', u'georgia', u'april', u'day', u'finnish', u'language', u'april', u'cosmonauts', u'day', u'russia', u'marking', u'day', u'yuri', u'gagarin', u'space', u'flight', u'april', u'songkan', u'laos', u'local', u'new', u'year', u'celebration', u'april', u'cambodian', u'new', u'year', u'april', u'thomas', u'jefferson', u'birthday', u'united', u'states', u'april', u'southeast', u'asian', u'new', u'year', u'festivals', u'april', u'georgian', u'language', u'day', u'april', u'youth', u'day', u'angola', u'april', u'ambedkar', u'tayanti', u'india', u'april', u'pan', u'american', u'day', u'april', u'tax', u'day', u'united', u'states', u'april', u'kim', u'il', u'sung', u'birthday', u'north', u'korea', u'april', u'father', u'damien', u'day', u'hawaii', u'april', u'jackie', u'robinson', u'day', u'major', u'league', u'baseball', u'april', u'birthday', u'queen', u'margrethe', u'ii', u'denmark', u'april', u'emancipation', u'day', u'washington', u'dc', u'april', u'world', u'voice', u'day', u'april', u'national', u'day', u'syria', u'april', u'flag', u'day', u'american', u'samoa', u'april', u'women', u'day', u'gabon', u'april', u'world', u'hemophilia', u'day', u'april', u'independence', u'day', u'zimbabwe', u'april', u'invention', u'day', u'japan', u'april', u'international', u'day', u'monuments', u'sites', u'april', u'bicycle', u'day', u'april', u'dutch', u'american', u'friendship', u'day', u'april', u'birthday', u'king', u'mswati', u'iii', u'swaziland', u'april', u'patriots', u'day', u'massachusetts', u'maine', u'wisconsin', u'april', u'cannabis', u'culture', u'april', u'john', u'muir', u'day', u'california', u'april', u'san', u'jacinto', u'day', u'texas', u'april', u'kartini', u'day', u'indonesia', u'april', u'national', u'tree', u'planting', u'day', u'kenya', u'april', u'day', u'ridran', u'baha', u'faith', u'april', u'grounation', u'day', u'rastafari', u'movement', u'april', u'earth', u'day', u'april', u'discovery', u'day', u'brazil', u'april', u'saint', u'george', u'day', u'celebrating', u'patron', u'saint', u'countries', u'regions', u'cities', u'including', u'england', u'catalonia', u'april', u'world', u'book', u'day', u'april', u'national', u'sovereignty', u'children', u'day', u'turkey', u'april', u'democracy', u'day', u'nepal', u'april', u'genocide', u'day', u'armenia', u'april', u'republic', u'day', u'gambia', u'april', u'australia', u'new', u'zealand', u'celebrate', u'anzac', u'day', u'anzac', u'means', u'australian', u'new', u'zealand', u'army', u'corps', u'began', u'april', u'world', u'dna', u'day', u'april', u'world', u'malaria', u'day', u'april', u'flag', u'day', u'swaziland', u'faroe', u'islands', u'april', u'freedom', u'day', u'portugal', u'april', u'liberation', u'day', u'italy', u'april', u'army', u'day', u'north', u'korea', u'april', u'union', u'day', u'tanzania', u'april', u'confederate', u'memorial', u'day', u'texas', u'florida', u'april', u'independence', u'day', u'sierra', u'leone', u'togo', u'april', u'freedom', u'day', u'south', u'africa', u'april', u'world', u'tapir', u'day', u'april', u'king', u'day', u'netherlands', u'birthday', u'willem', u'alexander', u'netherlands', u'april', u'workers', u'memorial', u'day', u'april', u'national', u'day', u'sardinia', u'april', u'national', u'heroes', u'day', u'barbados', u'april', u'showa', u'day', u'japan', u'birthday', u'emperor', u'hirohito', u'died', u'april', u'international', u'dance', u'day', u'april', u'queen', u'day', u'holiday', u'netherlands', u'change', u'king', u'day', u'april', u'birthday', u'queen', u'juliana', u'netherlands', u'april', u'flag', u'day', u'sweden', u'birthday', u'king', u'carl', u'xvi', u'gustaf', u'sweden', u'april', u'international', u'jazz', u'day', u'april', u'walpurgis', u'night', u'central', u'northern', u'europe', u'moveable', u'events', u'eggs', u'celebrating', u'easter', u'falls', u'april', u'falls', u'march', u'easter', u'related', u'events', u'western', u'christianity', u'palm', u'sunday', u'march', u'april', u'maundy', u'thursday', u'march', u'april', u'good', u'friday', u'march', u'april', u'easter', u'sunday', u'march', u'april', u'easter', u'monday', u'march', u'april', u'eastern', u'orthodox', u'easter', u'falls', u'april', u'ascension', u'day', u'western', u'christianity', u'falls', u'april', u'june', u'jewish', u'passover', u'falls', u'week', u'western', u'christianity', u'holy', u'week', u'week', u'leading', u'easter', u'mother', u'day', u'uk', u'falls', u'march', u'april', u'world', u'snooker', u'championship', u'late', u'april', u'early', u'horse', u'racing', u'grand', u'national', u'uk', u'kentucky', u'derby', u'united', u'states', u'start', u'daylight', u'saving', u'time', u'clocks', u'going', u'forward', u'hour', u'mexico', u'morocco', u'ramadan', u'include', u'daylight', u'saving', u'time', u'start', u'daylight', u'saving', u'time', u'clocks', u'going', u'hour', u'southeast', u'australia', u'new', u'zealand', u'chile', u'marathon', u'events', u'following', u'cities', u'belgrade', u'serbia', u'boston', u'massachusetts', u'united', u'states', u'brighton', u'united', u'kingdom', u'enschede', u'netherlands', u'london', u'united', u'kingdom', u'madrid', u'spain', u'paris', u'france', u'rotterdam', u'netherlands', u'utrecht', u'netherlands', u'zurich', u'switzerland', u'selection', u'historical', u'events', u'inauguration', u'celebration', u'nunavut', u'april', u'newspaper', u'report', u'sinking', u'rms', u'titanic', u'april', u'fires', u'san', u'francisco', u'earthquake', u'april', u'australian', u'new', u'zealand', u'forces', u'landing', u'anzac', u'cove', u'april', u'painting', u'showing', u'mutiny', u'bounty', u'april', u'queen', u'juliana', u'netherlands', u'abdicated', u'throne', u'st', u'birthday', u'april', u'april', u'royal', u'air', u'force', u'founded', u'april', u'apple', u'founded', u'april', u'islamic', u'republic', u'iran', u'founded', u'april', u'territory', u'nunavut', u'created', u'northern', u'canada', u'april', u'netherlands', u'introduces', u'sex', u'marriage', u'country', u'april', u'florida', u'sighted', u'european', u'time', u'april', u'haile', u'selassie', u'emperor', u'ethiopia', u'april', u'start', u'falklands', u'war', u'argentine', u'forces', u'land', u'falkland', u'islands', u'april', u'pope', u'john', u'paul', u'ii', u'dies', u'aged', u'half', u'years', u'pope', u'april', u'mobile', u'phone', u'placed', u'martin', u'cooper', u'new', u'york', u'city', u'april', u'robert', u'walpole', u'prime', u'minister', u'great', u'britain', u'april', u'william', u'henry', u'harrison', u'dies', u'president', u'united', u'states', u'days', u'shortest', u'time', u'office', u'president', u'april', u'senegal', u'independent', u'april', u'assassination', u'martin', u'luther', u'king', u'jr', u'memphis', u'tennessee', u'april', u'jacob', u'roggeveen', u'european', u'land', u'easter', u'island', u'landing', u'easter', u'sunday', u'april', u'scotland', u'independence', u'confirmed', u'declaration', u'arbroath', u'april', u'mormon', u'church', u'founded', u'april', u'robert', u'peary', u'claims', u'north', u'pole', u'date', u'april', u'rwandan', u'genocide', u'begins', u'april', u'american', u'civil', u'war', u'confederate', u'forces', u'robert', u'lee', u'surrender', u'union', u'forces', u'april', u'world', u'war', u'ii', u'denmark', u'norway', u'invaded', u'nazi', u'germany', u'april', u'april', u'tragedy', u'tbilisi', u'georgia', u'peaceful', u'demonstration', u'independence', u'broken', u'soviet', u'army', u'killing', u'people', u'country', u'gains', u'independence', u'date', u'exactly', u'years', u'later', u'april', u'mount', u'tambora', u'indonesia', u'erupts', u'huge', u'eruption', u'affecting', u'world', u'climate', u'year', u'april', u'plane', u'crash', u'near', u'smolensk', u'russia', u'kills', u'people', u'important', u'poland', u'including', u'president', u'lech', u'kaczynski', u'april', u'napoleon', u'bonaparte', u'exiled', u'island', u'elba', u'april', u'said', u'boring', u'day', u'th', u'century', u'april', u'american', u'civil', u'war', u'begins', u'fort', u'sumter', u'south', u'carolina', u'april', u'president', u'franklin', u'roosevelt', u'dies', u'harry', u'truman', u'replaces', u'april', u'yuri', u'gagarin', u'human', u'fly', u'space', u'april', u'president', u'abraham', u'lincoln', u'shot', u'dead', u'ford', u'theatre', u'john', u'wilkes', u'booth', u'lincoln', u'dies', u'day', u'april', u'qinghai', u'province', u'china', u'hit', u'earthquake', u'killing', u'tens', u'thousands', u'people', u'april', u'eruption', u'iceland', u'shuts', u'air', u'traffic', u'europe', u'week', u'ash', u'cloud', u'april', u'ship', u'rms', u'titanic', u'sinks', u'near', u'newfoundland', u'hitting', u'iceberg', u'resulting', u'deaths', u'people', u'board', u'april', u'albert', u'hofmann', u'discovers', u'lsd', u'effects', u'april', u'syria', u'gains', u'independence', u'france', u'april', u'san', u'francisco', u'earthquake', u'san', u'francisco', u'california', u'hit', u'big', u'earthquake', u'resulting', u'fires', u'destroy', u'large', u'parts', u'city', u'april', u'zimbabwe', u'gains', u'independence', u'april', u'boston', u'marathon', u'held', u'april', u'sierra', u'leone', u'republic', u'april', u'siege', u'branch', u'davidians', u'waco', u'texas', u'ends', u'kills', u'people', u'april', u'timothy', u'mcveigh', u'carries', u'oklahoma', u'city', u'bombing', u'killing', u'people', u'april', u'joseph', u'alois', u'ratzinger', u'pope', u'benedict', u'xvi', u'april', u'marie', u'curie', u'pierre', u'curie', u'refine', u'radium', u'april', u'deepwater', u'horizon', u'oil', u'spill', u'massive', u'deepwater', u'horizon', u'drilling', u'rig', u'gulf', u'mexico', u'kills', u'workers', u'causes', u'massive', u'oil', u'spill', u'worst', u'spill', u'history', u'april', u'bc', u'legendary', u'founding', u'date', u'rome', u'april', u'henry', u'viii', u'england', u'king', u'april', u'frederick', u'cook', u'claims', u'reached', u'north', u'pole', u'date', u'april', u'pedro', u'alvares', u'cabral', u'european', u'reach', u'present', u'day', u'brazil', u'april', u'earth', u'day', u'observed', u'time', u'april', u'church', u'england', u'declares', u'henry', u'viii', u'england', u'catherine', u'aragon', u'married', u'april', u'easter', u'rising', u'occurs', u'dublin', u'ireland', u'april', u'hubble', u'space', u'telescope', u'launched', u'space', u'shuttle', u'discovery', u'april', u'world', u'war', u'turkey', u'battle', u'gallipoli', u'begins', u'australian', u'french', u'british', u'new', u'zealand', u'forces', u'land', u'anzac', u'cove', u'april', u'portugal', u'dictatorship', u'overthrown', u'coup', u'known', u'carnation', u'revolution', u'april', u'spanish', u'civil', u'war', u'german', u'planes', u'bomb', u'town', u'guernica', u'basque', u'country', u'later', u'depicted', u'painting', u'pablo', u'picasso', u'april', u'tanganyika', u'zanzibar', u'merge', u'form', u'tanzania', u'april', u'reactor', u'explosion', u'occurs', u'chernobyl', u'nuclear', u'plant', u'present', u'day', u'ukraine', u'radiation', u'spreading', u'europe', u'world', u'april', u'south', u'africa', u'holds', u'free', u'elections', u'april', u'togo', u'independent', u'france', u'april', u'sierra', u'leone', u'independent', u'united', u'kingdom', u'april', u'mutiny', u'ship', u'bounty', u'pacific', u'ocean', u'lead', u'fletcher', u'christian', u'april', u'benito', u'mussolini', u'executed', u'italian', u'partisans', u'april', u'peru', u'thor', u'heyerdahl', u'starts', u'kon', u'tiki', u'expedition', u'aimed', u'proving', u'theory', u'polynesian', u'settlers', u'pacific', u'ocean', u'islands', u'came', u'south', u'america', u'april', u'cyclone', u'bangladesh', u'kills', u'estimated', u'people', u'april', u'wedding', u'prince', u'william', u'duke', u'cambridge', u'catherine', u'duchess', u'cambridge', u'broadcast', u'worldwide', u'april', u'george', u'washington', u'president', u'united', u'states', u'april', u'united', u'states', u'purchases', u'buys', u'louisiana', u'territory', u'france', u'april', u'adolf', u'hitler', u'commits', u'suicide', u'day', u'soviet', u'army', u'raises', u'red', u'flag', u'berlin', u'reichstag', u'april', u'diary', u'anne', u'frank', u'published', u'english', u'april', u'vietnam', u'war', u'ends', u'north', u'vietnamese', u'forces', u'saigon', u'april', u'queen', u'juliana', u'netherlands', u'abdicates', u'throne', u'daughter', u'queen', u'beatrix', u'netherlands', u'beatrix', u'later', u'abdicates', u'day', u'favor', u'son', u'king', u'willem', u'alexander', u'netherlands', u'trivia', u'elizabeth', u'ii', u'current', u'european', u'monarchs', u'born', u'april', u'western', u'christianity', u'bigger', u'likelihood', u'easter', u'falling', u'april', u'march', u'months', u'april', u'march', u'start', u'english', u'language', u'second', u'letter', u'english', u'language', u'april', u'months', u'row', u'june', u'female', u'given', u'astrological', u'signs', u'april', u'aries', u'march', u'april', u'taurus', u'april', u'sweet', u'pea', u'daisy', u'traditional', u'birth', u'flowers', u'april', u'birthstone', u'april', u'diamond', u'months', u'year', u'arranged', u'alphabetical', u'order', u'english', u'language', u'april', u'come', u'current', u'european', u'monarchs', u'born', u'april', u'king', u'philippe', u'belgium', u'april', u'queen', u'margrethe', u'ii', u'denmark', u'april', u'henri', u'grand', u'duke', u'luxembourg', u'april', u'elizabeth', u'ii', u'united', u'kingdom', u'commonwealth', u'realms', u'april', u'king', u'willem', u'alexander', u'netherlands', u'april', u'king', u'carl', u'xvi', u'gustaf', u'sweden', u'april'], [u'august', u'eighth', u'month', u'year', u'gregorian', u'calendar', u'coming', u'july', u'september', u'days', u'number', u'days', u'previous', u'month', u'july', u'named', u'roman', u'emperor', u'augustus', u'caesar', u'month', u'roman', u'emperor', u'augustus', u'caesar', u'august', u'named', u'month', u'called', u'sextilis', u'latin', u'sixth', u'month', u'old', u'roman', u'calendar', u'roman', u'calendar', u'began', u'march', u'bc', u'romulus', u'october', u'eighth', u'month', u'august', u'eighth', u'month', u'january', u'february', u'added', u'start', u'year', u'king', u'numa', u'pompilius', u'bc', u'months', u'moved', u'end', u'beginning', u'year', u'decemvirs', u'bc', u'roman', u'writers', u'disagree', u'bc', u'january', u'determined', u'beginning', u'year', u'august', u'named', u'augustus', u'caesar', u'roman', u'consul', u'month', u'month', u'days', u'julius', u'caesar', u'added', u'days', u'created', u'julian', u'calendar', u'bc', u'august', u'july', u'september', u'august', u'hemisphere', u'seasonal', u'equivalent', u'february', u'northern', u'hemisphere', u'summer', u'month', u'winter', u'month', u'southern', u'hemisphere', u'common', u'year', u'month', u'begins', u'day', u'week', u'august', u'leap', u'years', u'february', u'starts', u'day', u'august', u'august', u'ends', u'day', u'week', u'november', u'august', u'flower', u'gladiolus', u'birthstone', u'peridot', u'astrological', u'signs', u'august', u'leo', u'july', u'august', u'virgo', u'august', u'september', u'august', u'observances', u'fixed', u'observances', u'events', u'flags', u'celebrating', u'switzerland', u'national', u'day', u'august', u'august', u'national', u'day', u'switzerland', u'august', u'independence', u'day', u'benin', u'august', u'emancipation', u'day', u'bermuda', u'guyana', u'jamaica', u'barbados', u'trinidad', u'tobago', u'august', u'army', u'day', u'people', u'republic', u'china', u'august', u'lammas', u'cross', u'quarter', u'day', u'celtic', u'calendar', u'august', u'statehood', u'day', u'colorado', u'august', u'republic', u'day', u'republic', u'macedonia', u'august', u'emancipation', u'day', u'bahamas', u'august', u'independence', u'day', u'niger', u'august', u'independence', u'day', u'burkina', u'faso', u'august', u'victory', u'day', u'croatia', u'august', u'independence', u'day', u'bolivia', u'august', u'independence', u'day', u'jamaica', u'august', u'independence', u'day', u'ivory', u'coast', u'august', u'father', u'day', u'taiwan', u'august', u'national', u'day', u'singapore', u'august', u'day', u'indigenous', u'people', u'suriname', u'august', u'national', u'women', u'day', u'south', u'africa', u'august', u'independence', u'day', u'ecuador', u'august', u'missouri', u'day', u'august', u'independence', u'day', u'chad', u'august', u'perseid', u'meteor', u'shower', u'august', u'queen', u'sirikit', u'birthday', u'thailand', u'august', u'independence', u'day', u'central', u'african', u'republic', u'august', u'independence', u'day', u'pakistan', u'august', u'assumption', u'mary', u'western', u'christianity', u'august', u'independence', u'day', u'india', u'august', u'independence', u'day', u'republic', u'congo', u'august', u'independence', u'day', u'bahrain', u'august', u'national', u'day', u'south', u'korea', u'august', u'national', u'day', u'liechtenstein', u'august', u'victory', u'japan', u'day', u'august', u'independence', u'day', u'indonesia', u'august', u'independence', u'day', u'gabon', u'august', u'world', u'humanitarian', u'day', u'august', u'independence', u'day', u'afghanistan', u'august', u'feast', u'day', u'stephen', u'hungary', u'august', u'regaining', u'independence', u'estonia', u'august', u'admission', u'day', u'hawaii', u'august', u'ninoy', u'aquino', u'day', u'philippines', u'august', u'saint', u'helena', u'day', u'august', u'national', u'heroes', u'day', u'philippines', u'august', u'independence', u'day', u'ukraine', u'august', u'independence', u'day', u'uruguay', u'august', u'heroes', u'day', u'namibia', u'august', u'independence', u'day', u'moldova', u'august', u'assumption', u'mary', u'eastern', u'christianity', u'august', u'national', u'uprising', u'day', u'slovakia', u'august', u'constitution', u'day', u'kazakhstan', u'august', u'republic', u'day', u'tatarstan', u'august', u'victory', u'day', u'turkey', u'august', u'independence', u'day', u'kyrgyzstan', u'august', u'independence', u'day', u'malaysia', u'august', u'independence', u'day', u'trinidad', u'tobago', u'moveable', u'monthlong', u'events', u'military', u'tattoo', u'edinburgh', u'castle', u'edinburgh', u'festival', u'including', u'military', u'tattoo', u'edinburgh', u'castle', u'takes', u'place', u'august', u'beginning', u'september', u'uk', u'bank', u'holidays', u'monday', u'scotland', u'monday', u'england', u'wales', u'national', u'eisteddfod', u'cultural', u'celebration', u'wales', u'week', u'august', u'children', u'day', u'uruguay', u'second', u'sunday', u'august', u'monday', u'august', u'holiday', u'argentina', u'commemorating', u'jose', u'san', u'martin', u'discovery', u'day', u'canada', u'monday', u'august', u'summer', u'olympics', u'held', u'july', u'august', u'selection', u'historical', u'events', u'foundation', u'document', u'switzerland', u'sukarno', u'declaring', u'indonesia', u'independent', u'krakatoa', u'exploded', u'august', u'martin', u'luther', u'king', u'jr', u'march', u'washington', u'august', u'august', u'traditional', u'founding', u'date', u'switzerland', u'august', u'world', u'war', u'begins', u'august', u'anne', u'frank', u'makes', u'entry', u'diary', u'august', u'dahomey', u'called', u'benin', u'independent', u'august', u'iraq', u'invades', u'kuwait', u'august', u'christopher', u'columbus', u'sets', u'sail', u'voyage', u'august', u'niger', u'independent', u'august', u'anne', u'frank', u'family', u'captured', u'gestapo', u'amsterdam', u'august', u'upper', u'volta', u'changed', u'burkina', u'faso', u'august', u'upper', u'volta', u'independent', u'august', u'film', u'actress', u'marilyn', u'monroe', u'dead', u'home', u'august', u'bolivian', u'independence', u'august', u'atomic', u'bomb', u'dropped', u'hiroshima', u'august', u'jamaica', u'independent', u'august', u'ivory', u'coast', u'independent', u'august', u'atomic', u'bomb', u'dropped', u'nagasaki', u'august', u'singapore', u'independent', u'august', u'president', u'richard', u'nixon', u'resigns', u'following', u'watergate', u'scandal', u'gerald', u'ford', u'replacing', u'august', u'storming', u'tuileries', u'palace', u'french', u'revolution', u'august', u'beginning', u'ecuadorean', u'independence', u'movement', u'august', u'chad', u'independent', u'august', u'central', u'african', u'republic', u'independent', u'august', u'building', u'berlin', u'wall', u'begins', u'august', u'japan', u'announces', u'surrender', u'end', u'world', u'war', u'ii', u'august', u'india', u'partitioned', u'independence', u'uk', u'new', u'mainly', u'islamic', u'state', u'pakistan', u'created', u'august', u'republic', u'congo', u'independent', u'august', u'bahrain', u'independent', u'august', u'elvis', u'presley', u'dies', u'aged', u'leading', u'worldwide', u'outpouring', u'grief', u'august', u'indonesia', u'declares', u'independence', u'netherlands', u'august', u'gabon', u'independent', u'august', u'peter', u'fechter', u'person', u'shot', u'dead', u'berlin', u'wall', u'august', u'bc', u'augustus', u'roman', u'consul', u'august', u'augustus', u'dies', u'august', u'afghanistan', u'independent', u'august', u'august', u'coup', u'mikhail', u'gorbachev', u'soviet', u'union', u'begins', u'august', u'leon', u'trotsky', u'fatally', u'wounded', u'ice', u'pick', u'mexico', u'august', u'prague', u'spring', u'uprising', u'crushed', u'august', u'estonia', u'regains', u'independence', u'soviet', u'union', u'august', u'hawaii', u'th', u'state', u'august', u'vesuvius', u'erupts', u'destroying', u'pompeii', u'neighbouring', u'herculaneum', u'august', u'ukraine', u'regains', u'independence', u'soviet', u'union', u'august', u'uruguay', u'declares', u'independence', u'brazil', u'august', u'krakatoa', u'sunda', u'strait', u'sumatra', u'java', u'explodes', u'violent', u'eruption', u'august', u'moldova', u'independent', u'soviet', u'union', u'august', u'march', u'washington', u'jobs', u'freedom', u'takes', u'place', u'martin', u'luther', u'king', u'jr', u'makes', u'dream', u'speech', u'civil', u'rights', u'united', u'states', u'august', u'hurricane', u'katrina', u'wreaks', u'devastation', u'alabama', u'mississippi', u'louisiana', u'new', u'orleans', u'flooded', u'august', u'malaysia', u'federation', u'malaya', u'independent', u'august', u'trinidad', u'tobago', u'independent', u'august', u'kyrgyzstan', u'independent', u'august', u'diana', u'princess', u'wales', u'killed', u'car', u'crash', u'paris', u'leading', u'big', u'outpouring', u'grief', u'references']]\n"
       ]
      }
     ],
     "prompt_number": 58
    },
    {
     "cell_type": "heading",
     "level": 2,
     "metadata": {},
     "source": [
      "Dictionaries"
     ]
    },
    {
     "cell_type": "markdown",
     "metadata": {},
     "source": [
      "Dictionaries are objects that map into raw text tokens (strings) from their numerical ids (integers). Example:"
     ]
    },
    {
     "cell_type": "code",
     "collapsed": false,
     "input": [
      "id2word = {0: u'word', 2: u'profit', 300: u'another_word'}"
     ],
     "language": "python",
     "metadata": {},
     "outputs": [],
     "prompt_number": 16
    },
    {
     "cell_type": "markdown",
     "metadata": {},
     "source": [
      "This mapping step is technically (not conceptually) necessary because most algorithms rely on numerical libraries that work with vectors indexed by integers, rather than by strings.\n",
      "\n",
      "The mapping can be constructed automatically by giving `Dictionary` class a stream of tokenized documents:"
     ]
    },
    {
     "cell_type": "code",
     "collapsed": false,
     "input": [
      "%time id2word_wiki = gensim.corpora.Dictionary(iter_wiki('./data/simplewiki-20140623-pages-articles.xml.bz2'))\n",
      "print(id2word_wiki)"
     ],
     "language": "python",
     "metadata": {},
     "outputs": [
      {
       "output_type": "stream",
       "stream": "stderr",
       "text": [
        "INFO:gensim.corpora.dictionary:adding document #0 to Dictionary(0 unique tokens: [])\n"
       ]
      },
      {
       "output_type": "stream",
       "stream": "stderr",
       "text": [
        "INFO:gensim.corpora.dictionary:adding document #10000 to Dictionary(148220 unique tokens: [u'fawn', u'\\u03c9\\u0431\\u0440\\u0430\\u0434\\u043e\\u0432\\u0430\\u043d\\u043d\\u0430\\u0467', u'refreshable', u'yollar\\u0131', u'idaira']...)\n"
       ]
      },
      {
       "output_type": "stream",
       "stream": "stderr",
       "text": [
        "INFO:gensim.corpora.dictionary:adding document #20000 to Dictionary(225158 unique tokens: [u'biennials', u'sowela', u'mdbg', u'clottes', u'idaira']...)\n"
       ]
      },
      {
       "output_type": "stream",
       "stream": "stderr",
       "text": [
        "INFO:gensim.corpora.dictionary:adding document #30000 to Dictionary(286094 unique tokens: [u'biennials', u'sowela', u'mdbg', u'clottes', u'klatki']...)\n"
       ]
      },
      {
       "output_type": "stream",
       "stream": "stderr",
       "text": [
        "INFO:gensim.corpora.dictionary:adding document #40000 to Dictionary(375920 unique tokens: [u'biennials', u'sowela', u'mdbg', u'biysk', u'sermersheim']...)\n"
       ]
      },
      {
       "output_type": "stream",
       "stream": "stderr",
       "text": [
        "INFO:gensim.corpora.dictionary:built Dictionary(409138 unique tokens: [u'biennials', u'sowela', u'mdbg', u'biysk', u'sermersheim']...) from 48356 documents (total 10387233 corpus positions)\n"
       ]
      },
      {
       "output_type": "stream",
       "stream": "stdout",
       "text": [
        "CPU times: user 4min 37s, sys: 622 ms, total: 4min 38s\n",
        "Wall time: 4min 37s\n",
        "Dictionary(409138 unique tokens: [u'biennials', u'sowela', u'mdbg', u'biysk', u'sermersheim']...)\n"
       ]
      }
     ],
     "prompt_number": 59
    },
    {
     "cell_type": "markdown",
     "metadata": {},
     "source": [
      "The dictionary contains all words that appeared in the corpus, along with how many times they appeared. Let's filter out both very infrequent words and very frequent words (stopwords), to clear up resources as well as remove noise:"
     ]
    },
    {
     "cell_type": "code",
     "collapsed": false,
     "input": [
      "# ignore words that appear in less than 20 documents or more than 10% documents\n",
      "id2word_wiki.filter_extremes(no_below=20, no_above=0.1)\n",
      "print(id2word_wiki)"
     ],
     "language": "python",
     "metadata": {},
     "outputs": [
      {
       "output_type": "stream",
       "stream": "stderr",
       "text": [
        "INFO:gensim.corpora.dictionary:keeping 26645 tokens which were in no less than 20 and no more than 4835 (=10.0%) documents\n"
       ]
      },
      {
       "output_type": "stream",
       "stream": "stderr",
       "text": [
        "INFO:gensim.corpora.dictionary:resulting dictionary: Dictionary(26645 unique tokens: [u'fawn', u'schlegel', u'sonja', u'woods', u'spiders']...)\n"
       ]
      },
      {
       "output_type": "stream",
       "stream": "stdout",
       "text": [
        "Dictionary(26645 unique tokens: [u'fawn', u'schlegel', u'sonja', u'woods', u'spiders']...)\n"
       ]
      }
     ],
     "prompt_number": 60
    },
    {
     "cell_type": "markdown",
     "metadata": {},
     "source": [
      "**Exercise**: FIXME"
     ]
    },
    {
     "cell_type": "markdown",
     "metadata": {},
     "source": [
      "**Note for advanced users**: In fully online scenarios, where the documents can only be streamed once (no repeating the stream), we can't exhaust the stream just to build a dictionary. In this case we can map strings directly into their integer hash, using a hashing function such as MurmurHash or MD5. Such mapping is more difficult to debug, because the mapping is only one-way -- while we can retrieve the id (hash) for a given word, we cannot map an id to its word(s). See the documentation of [HashDictionary](http://radimrehurek.com/gensim/corpora/hashdictionary.html) for more details.\n"
     ]
    },
    {
     "cell_type": "heading",
     "level": 2,
     "metadata": {},
     "source": [
      "Vectorization"
     ]
    },
    {
     "cell_type": "markdown",
     "metadata": {},
     "source": [
      "A streamed corpus and a dictionary is all we need to create [bag-of-words](http://en.wikipedia.org/wiki/Bag-of-words_model) vectors:"
     ]
    },
    {
     "cell_type": "code",
     "collapsed": false,
     "input": [
      "class WikiCorpus(object):\n",
      "    def __init__(self, dump_file, dictionary, clip_docs=None):\n",
      "        \"\"\"\n",
      "        Parse the first `clip_docs` Wikipedia documents from file `dump_file`.\n",
      "        Yield each document in turn, as a list of tokens (unicode strings).\n",
      "        \n",
      "        \"\"\"\n",
      "        self.dump_file = dump_file\n",
      "        self.dictionary = dictionary\n",
      "        self.clip_docs = clip_docs\n",
      "    \n",
      "    def __iter__(self):\n",
      "        for tokens in itertools.islice(iter_wiki(self.dump_file), 0, self.clip_docs):\n",
      "            yield self.dictionary.doc2bow(tokens)\n",
      "    \n",
      "    def __len__(self):\n",
      "        return self.clip_docs\n",
      "\n",
      "# create a stream of bag-of-words vectors\n",
      "wiki_corpus = WikiCorpus('./data/simplewiki-20140623-pages-articles.xml.bz2', id2word_wiki, clip_docs=8000)\n",
      "vector = next(iter(wiki_corpus))\n",
      "print(vector)  # print the first vector in the stream"
     ],
     "language": "python",
     "metadata": {},
     "outputs": [
      {
       "output_type": "stream",
       "stream": "stdout",
       "text": [
        "[(24, 1), (38, 1), (53, 1), (103, 1), (111, 1), (213, 3), (237, 1), (242, 2), (417, 1), (455, 3), (459, 1), (463, 1), (505, 1), (533, 1), (547, 3), (718, 1), (786, 1), (834, 1), (858, 2), (881, 1), (934, 2), (944, 1), (1191, 3), (1205, 1), (1233, 1), (1366, 1), (1426, 1), (1469, 2), (1477, 2), (1495, 2), (1540, 1), (1611, 1), (1732, 1), (1749, 1), (1823, 1), (1913, 3), (1953, 1), (2003, 1), (2042, 1), (2142, 1), (2143, 1), (2324, 1), (2336, 5), (2382, 9), (2390, 1), (2537, 1), (2576, 2), (2583, 1), (2602, 1), (2617, 1), (2657, 2), (2684, 1), (2721, 1), (2952, 1), (2966, 1), (3066, 2), (3182, 2), (3235, 1), (3331, 4), (3357, 1), (3359, 5), (3383, 1), (3412, 2), (3480, 1), (3484, 1), (3504, 1), (3542, 2), (3555, 2), (3575, 1), (3578, 1), (3598, 5), (3632, 1), (3636, 1), (3643, 1), (3668, 1), (3704, 1), (3747, 1), (3781, 1), (3793, 2), (3808, 2), (3814, 1), (3853, 1), (3947, 1), (3969, 4), (4004, 1), (4007, 1), (4018, 2), (4032, 2), (4048, 1), (4128, 1), (4197, 1), (4216, 1), (4219, 2), (4238, 1), (4254, 11), (4298, 1), (4350, 1), (4370, 1), (4388, 1), (4419, 1), (4439, 1), (4465, 1), (4496, 1), (4518, 4), (4558, 1), (4582, 2), (4587, 2), (4694, 1), (4698, 1), (4701, 1), (4703, 1), (4792, 1), (4853, 2), (4901, 8), (4907, 3), (5006, 2), (5061, 2), (5066, 1), (5116, 2), (5163, 1), (5183, 1), (5226, 2), (5262, 2), (5268, 2), (5381, 1), (5390, 1), (5431, 2), (5439, 2), (5509, 1), (5512, 1), (5526, 1), (5535, 2), (5608, 1), (5631, 1), (5641, 1), (5742, 1), (5761, 1), (5767, 3), (5773, 11), (5795, 1), (5804, 3), (5841, 2), (5852, 1), (5892, 1), (5975, 1), (6015, 1), (6121, 1), (6190, 1), (6199, 2), (6212, 1), (6227, 1), (6233, 1), (6242, 215), (6246, 1), (6247, 1), (6278, 1), (6358, 1), (6394, 1), (6544, 1), (6616, 1), (6629, 1), (6630, 1), (6715, 1), (6840, 4), (6882, 1), (6891, 2), (6907, 1), (6945, 4), (7034, 1), (7064, 1), (7083, 1), (7086, 2), (7252, 1), (7288, 1), (7343, 1), (7401, 8), (7461, 1), (7511, 1), (7542, 1), (7627, 1), (7664, 1), (7748, 1), (7839, 1), (7861, 3), (7899, 1), (8136, 3), (8175, 2), (8181, 1), (8186, 3), (8245, 1), (8255, 1), (8371, 1), (8430, 1), (8439, 1), (8467, 1), (8580, 5), (8609, 1), (8617, 1), (8622, 2), (8662, 1), (8674, 1), (8715, 1), (8723, 1), (8750, 2), (8761, 4), (8832, 1), (8881, 4), (8908, 1), (8956, 1), (8979, 1), (8981, 2), (9180, 3), (9200, 1), (9274, 1), (9380, 1), (9418, 4), (9424, 1), (9432, 1), (9433, 3), (9484, 3), (9495, 2), (9524, 1), (9546, 1), (9550, 1), (9760, 3), (9999, 1), (10068, 2), (10184, 6), (10188, 1), (10212, 1), (10271, 3), (10282, 1), (10285, 1), (10288, 1), (10308, 2), (10315, 4), (10378, 1), (10413, 4), (10484, 5), (10549, 1), (10576, 1), (10589, 1), (10590, 3), (10709, 1), (10715, 2), (10737, 1), (10781, 1), (10786, 2), (10850, 1), (10909, 1), (10960, 1), (10988, 1), (11009, 1), (11059, 1), (11060, 1), (11067, 1), (11148, 1), (11152, 1), (11166, 1), (11279, 1), (11352, 1), (11357, 1), (11467, 1), (11484, 1), (11555, 1), (11615, 1), (11724, 1), (11744, 1), (11774, 5), (11803, 1), (11830, 1), (11857, 2), (11899, 1), (11945, 1), (11970, 3), (12000, 3), (12057, 1), (12082, 1), (12093, 1), (12113, 1), (12185, 3), (12257, 6), (12288, 2), (12315, 2), (12355, 1), (12356, 6), (12375, 1), (12399, 2), (12514, 1), (12590, 1), (12599, 1), (12601, 1), (12606, 1), (12618, 1), (12619, 1), (12625, 1), (12706, 1), (12730, 2), (12770, 2), (12941, 1), (13020, 1), (13064, 1), (13163, 1), (13229, 2), (13288, 1), (13345, 1), (13450, 1), (13481, 1), (13503, 1), (13524, 3), (13547, 2), (13563, 6), (13582, 4), (13627, 1), (13630, 1), (13634, 1), (13666, 1), (13693, 2), (13715, 1), (13781, 1), (13823, 1), (13839, 1), (13856, 1), (13911, 1), (14040, 1), (14081, 3), (14145, 1), (14154, 1), (14159, 1), (14195, 1), (14320, 1), (14371, 1), (14379, 2), (14439, 3), (14455, 3), (14458, 1), (14601, 2), (14605, 1), (14682, 1), (14711, 1), (14775, 2), (14779, 1), (14815, 5), (14839, 1), (14843, 1), (14897, 1), (14908, 2), (14917, 3), (15006, 1), (15018, 1), (15039, 1), (15047, 1), (15092, 2), (15094, 1), (15137, 1), (15156, 1), (15179, 1), (15268, 2), (15275, 1), (15292, 1), (15299, 1), (15335, 4), (15378, 1), (15517, 3), (15543, 2), (15553, 1), (15612, 4), (15619, 1), (15623, 1), (15643, 2), (15766, 1), (15856, 2), (15873, 1), (15930, 2), (15981, 2), (16036, 5), (16053, 3), (16110, 1), (16255, 1), (16259, 1), (16317, 2), (16347, 1), (16387, 1), (16560, 2), (16568, 2), (16624, 2), (16687, 1), (16694, 1), (16705, 6), (16738, 1), (16886, 4), (16890, 1), (16945, 1), (16954, 1), (16999, 1), (17089, 1), (17160, 1), (17186, 1), (17191, 2), (17199, 1), (17244, 1), (17290, 1), (17364, 2), (17499, 1), (17518, 1), (17535, 1), (17706, 3), (17762, 1), (17899, 3), (17906, 8), (17918, 1), (17954, 2), (17965, 1), (17977, 1), (17982, 1), (18116, 1), (18215, 2), (18238, 1), (18322, 1), (18481, 2), (18516, 1), (18538, 3), (18541, 1), (18551, 1), (18561, 1), (18590, 1), (18593, 1), (18644, 3), (18710, 1), (18714, 1), (18724, 1), (18830, 1), (18835, 1), (18860, 1), (18871, 2), (18903, 2), (18942, 1), (18995, 1), (19000, 1), (19045, 1), (19053, 4), (19061, 1), (19097, 1), (19144, 1), (19164, 1), (19246, 1), (19256, 1), (19263, 1), (19292, 1), (19326, 2), (19377, 1), (19385, 1), (19407, 2), (19448, 2), (19579, 1), (19610, 1), (19644, 1), (19701, 3), (19723, 1), (19756, 3), (19799, 2), (19811, 1), (19829, 1), (20003, 1), (20005, 1), (20031, 1), (20068, 2), (20131, 2), (20223, 1), (20316, 1), (20381, 1), (20494, 2), (20501, 1), (20513, 1), (20573, 2), (20582, 1), (20666, 1), (20686, 2), (20862, 1), (20865, 1), (20901, 4), (20918, 1), (21040, 5), (21074, 3), (21142, 1), (21409, 3), (21451, 1), (21476, 1), (21494, 1), (21518, 2), (21529, 2), (21535, 1), (21554, 1), (21656, 1), (21687, 1), (21690, 1), (21723, 1), (21727, 2), (21734, 1), (21765, 6), (21807, 1), (21874, 3), (21909, 1), (21926, 1), (21935, 2), (21991, 1), (22025, 1), (22030, 1), (22048, 1), (22080, 1), (22082, 1), (22144, 1), (22145, 5), (22181, 1), (22349, 2), (22435, 1), (22506, 2), (22555, 1), (22575, 1), (22633, 2), (22635, 2), (22674, 1), (22679, 1), (22709, 1), (22712, 1), (22738, 1), (22784, 2), (22875, 1), (22923, 1), (22926, 2), (22949, 1), (23060, 1), (23100, 2), (23114, 1), (23189, 1), (23232, 1), (23258, 1), (23275, 4), (23355, 5), (23442, 2), (23443, 1), (23459, 1), (23491, 2), (23519, 2), (23540, 2), (23643, 1), (23653, 1), (23684, 1), (23686, 4), (23713, 1), (23723, 1), (23747, 1), (23804, 2), (23805, 2), (23981, 1), (24051, 1), (24103, 2), (24140, 1), (24154, 1), (24190, 1), (24217, 1), (24226, 1), (24244, 1), (24263, 1), (24277, 1), (24288, 1), (24344, 1), (24379, 1), (24411, 1), (24708, 1), (24722, 1), (24739, 1), (24835, 2), (24938, 1), (24971, 1), (25029, 1), (25030, 1), (25034, 1), (25036, 3), (25063, 1), (25087, 14), (25097, 2), (25111, 1), (25142, 1), (25181, 2), (25189, 3), (25285, 1), (25402, 1), (25412, 1), (25429, 3), (25431, 3), (25473, 10), (25551, 3), (25629, 2), (25630, 2), (25647, 1), (25665, 1), (25713, 1), (25733, 1), (25736, 2), (25749, 6), (25774, 1), (25788, 1), (25999, 1), (26018, 2), (26097, 1), (26163, 1), (26165, 1), (26252, 1), (26262, 1), (26287, 2), (26296, 2), (26345, 1), (26366, 1), (26372, 1), (26435, 1), (26552, 1), (26572, 1), (26580, 4), (26594, 2), (26626, 2)]\n"
       ]
      }
     ],
     "prompt_number": 88
    },
    {
     "cell_type": "markdown",
     "metadata": {},
     "source": [
      "Let's store those vectors into a file, so we don't have to parse the Wikipedia XML every time over and over:"
     ]
    },
    {
     "cell_type": "code",
     "collapsed": false,
     "input": [
      "gensim.corpora.MmCorpus.serialize('./data/wiki.mm', wiki_corpus)"
     ],
     "language": "python",
     "metadata": {},
     "outputs": [
      {
       "output_type": "stream",
       "stream": "stderr",
       "text": [
        "INFO:gensim.corpora.mmcorpus:storing corpus in Matrix Market format to ./data/wiki.mm\n"
       ]
      },
      {
       "output_type": "stream",
       "stream": "stderr",
       "text": [
        "INFO:gensim.matutils:saving sparse matrix to ./data/wiki.mm\n"
       ]
      },
      {
       "output_type": "stream",
       "stream": "stderr",
       "text": [
        "INFO:gensim.matutils:PROGRESS: saving document #0\n"
       ]
      },
      {
       "output_type": "stream",
       "stream": "stderr",
       "text": [
        "INFO:gensim.matutils:PROGRESS: saving document #1000\n"
       ]
      },
      {
       "output_type": "stream",
       "stream": "stderr",
       "text": [
        "INFO:gensim.matutils:PROGRESS: saving document #2000\n"
       ]
      },
      {
       "output_type": "stream",
       "stream": "stderr",
       "text": [
        "INFO:gensim.matutils:PROGRESS: saving document #3000\n"
       ]
      },
      {
       "output_type": "stream",
       "stream": "stderr",
       "text": [
        "INFO:gensim.matutils:PROGRESS: saving document #4000\n"
       ]
      },
      {
       "output_type": "stream",
       "stream": "stderr",
       "text": [
        "INFO:gensim.matutils:PROGRESS: saving document #5000\n"
       ]
      },
      {
       "output_type": "stream",
       "stream": "stderr",
       "text": [
        "INFO:gensim.matutils:PROGRESS: saving document #6000\n"
       ]
      },
      {
       "output_type": "stream",
       "stream": "stderr",
       "text": [
        "INFO:gensim.matutils:PROGRESS: saving document #7000\n"
       ]
      },
      {
       "output_type": "stream",
       "stream": "stderr",
       "text": [
        "INFO:gensim.matutils:saved 8000x26645 matrix, density=0.530% (1129859/213160000)\n"
       ]
      },
      {
       "output_type": "stream",
       "stream": "stderr",
       "text": [
        "INFO:gensim.corpora.indexedcorpus:saving MmCorpus index to ./data/wiki.mm.index\n"
       ]
      }
     ],
     "prompt_number": 89
    },
    {
     "cell_type": "code",
     "collapsed": false,
     "input": [
      "wiki_corpus = gensim.corpora.MmCorpus('./data/wiki.mm')\n",
      "print(wiki_corpus)"
     ],
     "language": "python",
     "metadata": {},
     "outputs": [
      {
       "output_type": "stream",
       "stream": "stderr",
       "text": [
        "INFO:gensim.corpora.indexedcorpus:loaded corpus index from ./data/wiki.mm.index\n"
       ]
      },
      {
       "output_type": "stream",
       "stream": "stderr",
       "text": [
        "INFO:gensim.matutils:initializing corpus reader from ./data/wiki.mm\n"
       ]
      },
      {
       "output_type": "stream",
       "stream": "stderr",
       "text": [
        "INFO:gensim.matutils:accepted corpus with 8000 documents, 26645 features, 1129859 non-zero entries\n"
       ]
      },
      {
       "output_type": "stream",
       "stream": "stdout",
       "text": [
        "MmCorpus(8000 documents, 26645 features, 1129859 non-zero entries)\n"
       ]
      }
     ],
     "prompt_number": 93
    },
    {
     "cell_type": "markdown",
     "metadata": {},
     "source": [
      "`wiki_corpus` now contains exactly the same vectors as before, but they are backed by the `.mm` file, rather than extracted on the fly from the `xml.bz2` file:"
     ]
    },
    {
     "cell_type": "code",
     "collapsed": false,
     "input": [
      "print(next(iter(wiki_corpus)))"
     ],
     "language": "python",
     "metadata": {},
     "outputs": [
      {
       "output_type": "stream",
       "stream": "stdout",
       "text": [
        "[(24, 1.0), (38, 1.0), (53, 1.0), (103, 1.0), (111, 1.0), (213, 3.0), (237, 1.0), (242, 2.0), (417, 1.0), (455, 3.0), (459, 1.0), (463, 1.0), (505, 1.0), (533, 1.0), (547, 3.0), (718, 1.0), (786, 1.0), (834, 1.0), (858, 2.0), (881, 1.0), (934, 2.0), (944, 1.0), (1191, 3.0), (1205, 1.0), (1233, 1.0), (1366, 1.0), (1426, 1.0), (1469, 2.0), (1477, 2.0), (1495, 2.0), (1540, 1.0), (1611, 1.0), (1732, 1.0), (1749, 1.0), (1823, 1.0), (1913, 3.0), (1953, 1.0), (2003, 1.0), (2042, 1.0), (2142, 1.0), (2143, 1.0), (2324, 1.0), (2336, 5.0), (2382, 9.0), (2390, 1.0), (2537, 1.0), (2576, 2.0), (2583, 1.0), (2602, 1.0), (2617, 1.0), (2657, 2.0), (2684, 1.0), (2721, 1.0), (2952, 1.0), (2966, 1.0), (3066, 2.0), (3182, 2.0), (3235, 1.0), (3331, 4.0), (3357, 1.0), (3359, 5.0), (3383, 1.0), (3412, 2.0), (3480, 1.0), (3484, 1.0), (3504, 1.0), (3542, 2.0), (3555, 2.0), (3575, 1.0), (3578, 1.0), (3598, 5.0), (3632, 1.0), (3636, 1.0), (3643, 1.0), (3668, 1.0), (3704, 1.0), (3747, 1.0), (3781, 1.0), (3793, 2.0), (3808, 2.0), (3814, 1.0), (3853, 1.0), (3947, 1.0), (3969, 4.0), (4004, 1.0), (4007, 1.0), (4018, 2.0), (4032, 2.0), (4048, 1.0), (4128, 1.0), (4197, 1.0), (4216, 1.0), (4219, 2.0), (4238, 1.0), (4254, 11.0), (4298, 1.0), (4350, 1.0), (4370, 1.0), (4388, 1.0), (4419, 1.0), (4439, 1.0), (4465, 1.0), (4496, 1.0), (4518, 4.0), (4558, 1.0), (4582, 2.0), (4587, 2.0), (4694, 1.0), (4698, 1.0), (4701, 1.0), (4703, 1.0), (4792, 1.0), (4853, 2.0), (4901, 8.0), (4907, 3.0), (5006, 2.0), (5061, 2.0), (5066, 1.0), (5116, 2.0), (5163, 1.0), (5183, 1.0), (5226, 2.0), (5262, 2.0), (5268, 2.0), (5381, 1.0), (5390, 1.0), (5431, 2.0), (5439, 2.0), (5509, 1.0), (5512, 1.0), (5526, 1.0), (5535, 2.0), (5608, 1.0), (5631, 1.0), (5641, 1.0), (5742, 1.0), (5761, 1.0), (5767, 3.0), (5773, 11.0), (5795, 1.0), (5804, 3.0), (5841, 2.0), (5852, 1.0), (5892, 1.0), (5975, 1.0), (6015, 1.0), (6121, 1.0), (6190, 1.0), (6199, 2.0), (6212, 1.0), (6227, 1.0), (6233, 1.0), (6242, 215.0), (6246, 1.0), (6247, 1.0), (6278, 1.0), (6358, 1.0), (6394, 1.0), (6544, 1.0), (6616, 1.0), (6629, 1.0), (6630, 1.0), (6715, 1.0), (6840, 4.0), (6882, 1.0), (6891, 2.0), (6907, 1.0), (6945, 4.0), (7034, 1.0), (7064, 1.0), (7083, 1.0), (7086, 2.0), (7252, 1.0), (7288, 1.0), (7343, 1.0), (7401, 8.0), (7461, 1.0), (7511, 1.0), (7542, 1.0), (7627, 1.0), (7664, 1.0), (7748, 1.0), (7839, 1.0), (7861, 3.0), (7899, 1.0), (8136, 3.0), (8175, 2.0), (8181, 1.0), (8186, 3.0), (8245, 1.0), (8255, 1.0), (8371, 1.0), (8430, 1.0), (8439, 1.0), (8467, 1.0), (8580, 5.0), (8609, 1.0), (8617, 1.0), (8622, 2.0), (8662, 1.0), (8674, 1.0), (8715, 1.0), (8723, 1.0), (8750, 2.0), (8761, 4.0), (8832, 1.0), (8881, 4.0), (8908, 1.0), (8956, 1.0), (8979, 1.0), (8981, 2.0), (9180, 3.0), (9200, 1.0), (9274, 1.0), (9380, 1.0), (9418, 4.0), (9424, 1.0), (9432, 1.0), (9433, 3.0), (9484, 3.0), (9495, 2.0), (9524, 1.0), (9546, 1.0), (9550, 1.0), (9760, 3.0), (9999, 1.0), (10068, 2.0), (10184, 6.0), (10188, 1.0), (10212, 1.0), (10271, 3.0), (10282, 1.0), (10285, 1.0), (10288, 1.0), (10308, 2.0), (10315, 4.0), (10378, 1.0), (10413, 4.0), (10484, 5.0), (10549, 1.0), (10576, 1.0), (10589, 1.0), (10590, 3.0), (10709, 1.0), (10715, 2.0), (10737, 1.0), (10781, 1.0), (10786, 2.0), (10850, 1.0), (10909, 1.0), (10960, 1.0), (10988, 1.0), (11009, 1.0), (11059, 1.0), (11060, 1.0), (11067, 1.0), (11148, 1.0), (11152, 1.0), (11166, 1.0), (11279, 1.0), (11352, 1.0), (11357, 1.0), (11467, 1.0), (11484, 1.0), (11555, 1.0), (11615, 1.0), (11724, 1.0), (11744, 1.0), (11774, 5.0), (11803, 1.0), (11830, 1.0), (11857, 2.0), (11899, 1.0), (11945, 1.0), (11970, 3.0), (12000, 3.0), (12057, 1.0), (12082, 1.0), (12093, 1.0), (12113, 1.0), (12185, 3.0), (12257, 6.0), (12288, 2.0), (12315, 2.0), (12355, 1.0), (12356, 6.0), (12375, 1.0), (12399, 2.0), (12514, 1.0), (12590, 1.0), (12599, 1.0), (12601, 1.0), (12606, 1.0), (12618, 1.0), (12619, 1.0), (12625, 1.0), (12706, 1.0), (12730, 2.0), (12770, 2.0), (12941, 1.0), (13020, 1.0), (13064, 1.0), (13163, 1.0), (13229, 2.0), (13288, 1.0), (13345, 1.0), (13450, 1.0), (13481, 1.0), (13503, 1.0), (13524, 3.0), (13547, 2.0), (13563, 6.0), (13582, 4.0), (13627, 1.0), (13630, 1.0), (13634, 1.0), (13666, 1.0), (13693, 2.0), (13715, 1.0), (13781, 1.0), (13823, 1.0), (13839, 1.0), (13856, 1.0), (13911, 1.0), (14040, 1.0), (14081, 3.0), (14145, 1.0), (14154, 1.0), (14159, 1.0), (14195, 1.0), (14320, 1.0), (14371, 1.0), (14379, 2.0), (14439, 3.0), (14455, 3.0), (14458, 1.0), (14601, 2.0), (14605, 1.0), (14682, 1.0), (14711, 1.0), (14775, 2.0), (14779, 1.0), (14815, 5.0), (14839, 1.0), (14843, 1.0), (14897, 1.0), (14908, 2.0), (14917, 3.0), (15006, 1.0), (15018, 1.0), (15039, 1.0), (15047, 1.0), (15092, 2.0), (15094, 1.0), (15137, 1.0), (15156, 1.0), (15179, 1.0), (15268, 2.0), (15275, 1.0), (15292, 1.0), (15299, 1.0), (15335, 4.0), (15378, 1.0), (15517, 3.0), (15543, 2.0), (15553, 1.0), (15612, 4.0), (15619, 1.0), (15623, 1.0), (15643, 2.0), (15766, 1.0), (15856, 2.0), (15873, 1.0), (15930, 2.0), (15981, 2.0), (16036, 5.0), (16053, 3.0), (16110, 1.0), (16255, 1.0), (16259, 1.0), (16317, 2.0), (16347, 1.0), (16387, 1.0), (16560, 2.0), (16568, 2.0), (16624, 2.0), (16687, 1.0), (16694, 1.0), (16705, 6.0), (16738, 1.0), (16886, 4.0), (16890, 1.0), (16945, 1.0), (16954, 1.0), (16999, 1.0), (17089, 1.0), (17160, 1.0), (17186, 1.0), (17191, 2.0), (17199, 1.0), (17244, 1.0), (17290, 1.0), (17364, 2.0), (17499, 1.0), (17518, 1.0), (17535, 1.0), (17706, 3.0), (17762, 1.0), (17899, 3.0), (17906, 8.0), (17918, 1.0), (17954, 2.0), (17965, 1.0), (17977, 1.0), (17982, 1.0), (18116, 1.0), (18215, 2.0), (18238, 1.0), (18322, 1.0), (18481, 2.0), (18516, 1.0), (18538, 3.0), (18541, 1.0), (18551, 1.0), (18561, 1.0), (18590, 1.0), (18593, 1.0), (18644, 3.0), (18710, 1.0), (18714, 1.0), (18724, 1.0), (18830, 1.0), (18835, 1.0), (18860, 1.0), (18871, 2.0), (18903, 2.0), (18942, 1.0), (18995, 1.0), (19000, 1.0), (19045, 1.0), (19053, 4.0), (19061, 1.0), (19097, 1.0), (19144, 1.0), (19164, 1.0), (19246, 1.0), (19256, 1.0), (19263, 1.0), (19292, 1.0), (19326, 2.0), (19377, 1.0), (19385, 1.0), (19407, 2.0), (19448, 2.0), (19579, 1.0), (19610, 1.0), (19644, 1.0), (19701, 3.0), (19723, 1.0), (19756, 3.0), (19799, 2.0), (19811, 1.0), (19829, 1.0), (20003, 1.0), (20005, 1.0), (20031, 1.0), (20068, 2.0), (20131, 2.0), (20223, 1.0), (20316, 1.0), (20381, 1.0), (20494, 2.0), (20501, 1.0), (20513, 1.0), (20573, 2.0), (20582, 1.0), (20666, 1.0), (20686, 2.0), (20862, 1.0), (20865, 1.0), (20901, 4.0), (20918, 1.0), (21040, 5.0), (21074, 3.0), (21142, 1.0), (21409, 3.0), (21451, 1.0), (21476, 1.0), (21494, 1.0), (21518, 2.0), (21529, 2.0), (21535, 1.0), (21554, 1.0), (21656, 1.0), (21687, 1.0), (21690, 1.0), (21723, 1.0), (21727, 2.0), (21734, 1.0), (21765, 6.0), (21807, 1.0), (21874, 3.0), (21909, 1.0), (21926, 1.0), (21935, 2.0), (21991, 1.0), (22025, 1.0), (22030, 1.0), (22048, 1.0), (22080, 1.0), (22082, 1.0), (22144, 1.0), (22145, 5.0), (22181, 1.0), (22349, 2.0), (22435, 1.0), (22506, 2.0), (22555, 1.0), (22575, 1.0), (22633, 2.0), (22635, 2.0), (22674, 1.0), (22679, 1.0), (22709, 1.0), (22712, 1.0), (22738, 1.0), (22784, 2.0), (22875, 1.0), (22923, 1.0), (22926, 2.0), (22949, 1.0), (23060, 1.0), (23100, 2.0), (23114, 1.0), (23189, 1.0), (23232, 1.0), (23258, 1.0), (23275, 4.0), (23355, 5.0), (23442, 2.0), (23443, 1.0), (23459, 1.0), (23491, 2.0), (23519, 2.0), (23540, 2.0), (23643, 1.0), (23653, 1.0), (23684, 1.0), (23686, 4.0), (23713, 1.0), (23723, 1.0), (23747, 1.0), (23804, 2.0), (23805, 2.0), (23981, 1.0), (24051, 1.0), (24103, 2.0), (24140, 1.0), (24154, 1.0), (24190, 1.0), (24217, 1.0), (24226, 1.0), (24244, 1.0), (24263, 1.0), (24277, 1.0), (24288, 1.0), (24344, 1.0), (24379, 1.0), (24411, 1.0), (24708, 1.0), (24722, 1.0), (24739, 1.0), (24835, 2.0), (24938, 1.0), (24971, 1.0), (25029, 1.0), (25030, 1.0), (25034, 1.0), (25036, 3.0), (25063, 1.0), (25087, 14.0), (25097, 2.0), (25111, 1.0), (25142, 1.0), (25181, 2.0), (25189, 3.0), (25285, 1.0), (25402, 1.0), (25412, 1.0), (25429, 3.0), (25431, 3.0), (25473, 10.0), (25551, 3.0), (25629, 2.0), (25630, 2.0), (25647, 1.0), (25665, 1.0), (25713, 1.0), (25733, 1.0), (25736, 2.0), (25749, 6.0), (25774, 1.0), (25788, 1.0), (25999, 1.0), (26018, 2.0), (26097, 1.0), (26163, 1.0), (26165, 1.0), (26252, 1.0), (26262, 1.0), (26287, 2.0), (26296, 2.0), (26345, 1.0), (26366, 1.0), (26372, 1.0), (26435, 1.0), (26552, 1.0), (26572, 1.0), (26580, 4.0), (26594, 2.0), (26626, 2.0)]\n"
       ]
      }
     ],
     "prompt_number": 97
    },
    {
     "cell_type": "heading",
     "level": 2,
     "metadata": {},
     "source": [
      "Semantic transformations"
     ]
    },
    {
     "cell_type": "markdown",
     "metadata": {},
     "source": [
      "Topic modeling in gensim is realized via transformations. Let's train a model, using our WikiCorpus as training data:"
     ]
    },
    {
     "cell_type": "code",
     "collapsed": false,
     "input": [
      "%time lda_model = gensim.models.LdaModel(wiki_corpus, num_topics=10, id2word=id2word_wiki, passes=4)"
     ],
     "language": "python",
     "metadata": {},
     "outputs": [
      {
       "output_type": "stream",
       "stream": "stderr",
       "text": [
        "INFO:gensim.models.ldamodel:using symmetric alpha at 0.1\n"
       ]
      },
      {
       "output_type": "stream",
       "stream": "stderr",
       "text": [
        "INFO:gensim.models.ldamodel:using serial LDA version on this node\n"
       ]
      },
      {
       "output_type": "stream",
       "stream": "stderr",
       "text": [
        "INFO:gensim.models.ldamodel:running online LDA training, 10 topics, 4 passes over the supplied corpus of 8000 documents, updating model once every 2000 documents, evaluating perplexity every 8000 documents, iterating 50x with a convergence threshold of 0.001000\n"
       ]
      },
      {
       "output_type": "stream",
       "stream": "stderr",
       "text": [
        "INFO:gensim.models.ldamodel:PROGRESS: pass 0, at document #2000/8000\n"
       ]
      },
      {
       "output_type": "stream",
       "stream": "stderr",
       "text": [
        "INFO:gensim.models.ldamodel:merging changes from 2000 documents into a model of 8000 documents\n"
       ]
      },
      {
       "output_type": "stream",
       "stream": "stderr",
       "text": [
        "INFO:gensim.models.ldamodel:topic #0 (0.100): 0.003*person + 0.003*example + 0.003*music + 0.002*country + 0.002*roman + 0.002*countries + 0.002*british + 0.002*earth + 0.002*water + 0.002*word\n"
       ]
      },
      {
       "output_type": "stream",
       "stream": "stderr",
       "text": [
        "INFO:gensim.models.ldamodel:topic #1 (0.100): 0.003*british + 0.003*water + 0.003*germany + 0.003*german + 0.002*mario + 0.002*january + 0.002*president + 0.002*actor + 0.002*example + 0.002*april\n"
       ]
      },
      {
       "output_type": "stream",
       "stream": "stderr",
       "text": [
        "INFO:gensim.models.ldamodel:topic #2 (0.100): 0.008*tower + 0.007*mast + 0.007*transmission + 0.003*left + 0.003*france + 0.003*water + 0.002*king + 0.002*july + 0.002*government + 0.002*president\n"
       ]
      },
      {
       "output_type": "stream",
       "stream": "stderr",
       "text": [
        "INFO:gensim.models.ldamodel:topic #3 (0.100): 0.004*language + 0.003*actress + 0.003*president + 0.003*countries + 0.003*french + 0.003*country + 0.002*april + 0.002*british + 0.002*things + 0.002*actor\n"
       ]
      },
      {
       "output_type": "stream",
       "stream": "stderr",
       "text": [
        "INFO:gensim.models.ldamodel:topic #4 (0.100): 0.004*actor + 0.003*german + 0.003*december + 0.003*president + 0.003*british + 0.003*river + 0.002*player + 0.002*country + 0.002*ii + 0.002*music\n"
       ]
      },
      {
       "output_type": "stream",
       "stream": "stderr",
       "text": [
        "INFO:gensim.models.ldamodel:topic #5 (0.100): 0.003*bc + 0.003*april + 0.003*country + 0.003*bridge + 0.003*countries + 0.003*language + 0.002*word + 0.002*president + 0.002*example + 0.002*things\n"
       ]
      },
      {
       "output_type": "stream",
       "stream": "stderr",
       "text": [
        "INFO:gensim.models.ldamodel:topic #6 (0.100): 0.003*lake + 0.003*earth + 0.002*german + 0.002*actress + 0.002*french + 0.002*british + 0.002*july + 0.002*water + 0.002*example + 0.002*countries\n"
       ]
      },
      {
       "output_type": "stream",
       "stream": "stderr",
       "text": [
        "INFO:gensim.models.ldamodel:topic #7 (0.100): 0.005*bridge + 0.003*example + 0.003*king + 0.002*water + 0.002*february + 0.002*language + 0.002*things + 0.002*words + 0.002*william + 0.002*president\n"
       ]
      },
      {
       "output_type": "stream",
       "stream": "stderr",
       "text": [
        "INFO:gensim.models.ldamodel:topic #8 (0.100): 0.003*countries + 0.003*president + 0.003*things + 0.002*september + 0.002*government + 0.002*example + 0.002*country + 0.002*food + 0.002*ii + 0.002*china\n"
       ]
      },
      {
       "output_type": "stream",
       "stream": "stderr",
       "text": [
        "INFO:gensim.models.ldamodel:topic #9 (0.100): 0.007*league + 0.007*hex + 0.006*rgb + 0.004*premier + 0.003*october + 0.003*king + 0.003*color + 0.003*green + 0.002*football + 0.002*light\n"
       ]
      },
      {
       "output_type": "stream",
       "stream": "stderr",
       "text": [
        "INFO:gensim.models.ldamodel:topic diff=3.186482, rho=1.000000\n"
       ]
      },
      {
       "output_type": "stream",
       "stream": "stderr",
       "text": [
        "INFO:gensim.models.ldamodel:PROGRESS: pass 0, at document #4000/8000\n"
       ]
      },
      {
       "output_type": "stream",
       "stream": "stderr",
       "text": [
        "INFO:gensim.models.ldamodel:merging changes from 2000 documents into a model of 8000 documents\n"
       ]
      },
      {
       "output_type": "stream",
       "stream": "stderr",
       "text": [
        "INFO:gensim.models.ldamodel:topic #0 (0.100): 0.004*music + 0.003*person + 0.003*school + 0.003*live + 0.002*example + 0.002*water + 0.002*fish + 0.002*body + 0.002*abortion + 0.002*means\n"
       ]
      },
      {
       "output_type": "stream",
       "stream": "stderr",
       "text": [
        "INFO:gensim.models.ldamodel:topic #1 (0.100): 0.004*game + 0.003*germany + 0.003*german + 0.003*released + 0.003*british + 0.002*games + 0.002*player + 0.002*president + 0.002*singer + 0.002*french\n"
       ]
      },
      {
       "output_type": "stream",
       "stream": "stderr",
       "text": [
        "INFO:gensim.models.ldamodel:topic #2 (0.100): 0.005*tower + 0.004*france + 0.003*mast + 0.003*transmission + 0.003*king + 0.003*left + 0.003*government + 0.003*al + 0.002*water + 0.002*president\n"
       ]
      },
      {
       "output_type": "stream",
       "stream": "stderr",
       "text": [
        "INFO:gensim.models.ldamodel:topic #3 (0.100): 0.005*actress + 0.004*president + 0.004*french + 0.004*language + 0.004*movie + 0.003*british + 0.003*singer + 0.003*actor + 0.003*country + 0.002*italian\n"
       ]
      },
      {
       "output_type": "stream",
       "stream": "stderr",
       "text": [
        "INFO:gensim.models.ldamodel:topic #4 (0.100): 0.010*actor + 0.009*german + 0.008*british + 0.008*singer + 0.008*footballer + 0.008*french + 0.008*writer + 0.007*politician + 0.007*actress + 0.007*player\n"
       ]
      },
      {
       "output_type": "stream",
       "stream": "stderr",
       "text": [
        "INFO:gensim.models.ldamodel:topic #5 (0.100): 0.004*country + 0.004*island + 0.003*countries + 0.003*bc + 0.003*language + 0.003*sea + 0.002*government + 0.002*capital + 0.002*april + 0.002*word\n"
       ]
      },
      {
       "output_type": "stream",
       "stream": "stderr",
       "text": [
        "INFO:gensim.models.ldamodel:topic #6 (0.100): 0.004*blood + 0.004*body + 0.003*man + 0.003*woman + 0.003*person + 0.003*women + 0.003*penis + 0.003*sex + 0.002*men + 0.002*sexual\n"
       ]
      },
      {
       "output_type": "stream",
       "stream": "stderr",
       "text": [
        "INFO:gensim.models.ldamodel:topic #7 (0.100): 0.003*bridge + 0.003*jpg + 0.003*windows + 0.003*example + 0.003*means + 0.002*person + 0.002*things + 0.002*file + 0.002*usb + 0.002*water\n"
       ]
      },
      {
       "output_type": "stream",
       "stream": "stderr",
       "text": [
        "INFO:gensim.models.ldamodel:topic #8 (0.100): 0.004*president + 0.003*things + 0.003*countries + 0.003*food + 0.002*government + 0.002*example + 0.002*country + 0.002*china + 0.002*species + 0.002*light\n"
       ]
      },
      {
       "output_type": "stream",
       "stream": "stderr",
       "text": [
        "INFO:gensim.models.ldamodel:topic #9 (0.100): 0.010*hex + 0.010*rgb + 0.007*band + 0.006*album + 0.006*league + 0.005*color + 0.003*green + 0.003*king + 0.003*october + 0.003*pink\n"
       ]
      },
      {
       "output_type": "stream",
       "stream": "stderr",
       "text": [
        "INFO:gensim.models.ldamodel:topic diff=1.436022, rho=0.707107\n"
       ]
      },
      {
       "output_type": "stream",
       "stream": "stderr",
       "text": [
        "INFO:gensim.models.ldamodel:PROGRESS: pass 0, at document #6000/8000\n"
       ]
      },
      {
       "output_type": "stream",
       "stream": "stderr",
       "text": [
        "INFO:gensim.models.ldamodel:merging changes from 2000 documents into a model of 8000 documents\n"
       ]
      },
      {
       "output_type": "stream",
       "stream": "stderr",
       "text": [
        "INFO:gensim.models.ldamodel:topic #0 (0.100): 0.007*music + 0.003*live + 0.003*water + 0.003*person + 0.003*church + 0.003*fish + 0.003*species + 0.002*school + 0.002*example + 0.002*means\n"
       ]
      },
      {
       "output_type": "stream",
       "stream": "stderr",
       "text": [
        "INFO:gensim.models.ldamodel:topic #1 (0.100): 0.006*game + 0.004*games + 0.004*germany + 0.003*series + 0.003*book + 0.003*released + 0.003*german + 0.002*player + 0.002*books + 0.002*movie\n"
       ]
      },
      {
       "output_type": "stream",
       "stream": "stderr",
       "text": [
        "INFO:gensim.models.ldamodel:topic #2 (0.100): 0.004*france + 0.004*tower + 0.003*government + 0.003*king + 0.003*left + 0.002*capital + 0.002*al + 0.002*built + 0.002*army + 0.002*land\n"
       ]
      },
      {
       "output_type": "stream",
       "stream": "stderr",
       "text": [
        "INFO:gensim.models.ldamodel:topic #3 (0.100): 0.006*language + 0.004*movie + 0.004*actress + 0.003*french + 0.003*president + 0.003*country + 0.003*empire + 0.003*british + 0.002*countries + 0.002*actor\n"
       ]
      },
      {
       "output_type": "stream",
       "stream": "stderr",
       "text": [
        "INFO:gensim.models.ldamodel:topic #4 (0.100): 0.009*actor + 0.008*german + 0.008*french + 0.008*british + 0.007*writer + 0.007*singer + 0.006*footballer + 0.006*politician + 0.006*actress + 0.006*president\n"
       ]
      },
      {
       "output_type": "stream",
       "stream": "stderr",
       "text": [
        "INFO:gensim.models.ldamodel:topic #5 (0.100): 0.007*island + 0.006*country + 0.005*islands + 0.005*bc + 0.004*capital + 0.004*language + 0.003*river + 0.003*government + 0.003*countries + 0.003*east\n"
       ]
      },
      {
       "output_type": "stream",
       "stream": "stderr",
       "text": [
        "INFO:gensim.models.ldamodel:topic #6 (0.100): 0.006*body + 0.006*person + 0.005*man + 0.004*blood + 0.004*woman + 0.003*sex + 0.003*women + 0.003*disease + 0.002*children + 0.002*penis\n"
       ]
      },
      {
       "output_type": "stream",
       "stream": "stderr",
       "text": [
        "INFO:gensim.models.ldamodel:topic #7 (0.100): 0.004*example + 0.004*raid + 0.003*jpg + 0.003*compounds + 0.003*metal + 0.003*file + 0.003*water + 0.003*means + 0.003*things + 0.003*chemical\n"
       ]
      },
      {
       "output_type": "stream",
       "stream": "stderr",
       "text": [
        "INFO:gensim.models.ldamodel:topic #8 (0.100): 0.004*species + 0.003*numbers + 0.003*things + 0.003*food + 0.003*light + 0.003*animals + 0.003*example + 0.002*human + 0.002*countries + 0.002*china\n"
       ]
      },
      {
       "output_type": "stream",
       "stream": "stderr",
       "text": [
        "INFO:gensim.models.ldamodel:topic #9 (0.100): 0.007*album + 0.006*band + 0.006*league + 0.006*hex + 0.006*rgb + 0.005*music + 0.004*team + 0.004*color + 0.004*won + 0.003*season\n"
       ]
      },
      {
       "output_type": "stream",
       "stream": "stderr",
       "text": [
        "INFO:gensim.models.ldamodel:topic diff=0.981319, rho=0.577350\n"
       ]
      },
      {
       "output_type": "stream",
       "stream": "stderr",
       "text": [
        "INFO:gensim.models.ldamodel:-9.141 per-word bound, 564.5 perplexity estimate based on a held-out corpus of 2000 documents with 324558 words\n"
       ]
      },
      {
       "output_type": "stream",
       "stream": "stderr",
       "text": [
        "INFO:gensim.models.ldamodel:PROGRESS: pass 0, at document #8000/8000\n"
       ]
      },
      {
       "output_type": "stream",
       "stream": "stderr",
       "text": [
        "INFO:gensim.models.ldamodel:merging changes from 2000 documents into a model of 8000 documents\n"
       ]
      },
      {
       "output_type": "stream",
       "stream": "stderr",
       "text": [
        "INFO:gensim.models.ldamodel:topic #0 (0.100): 0.014*music + 0.004*wrote + 0.003*live + 0.003*water + 0.003*church + 0.003*instruments + 0.003*school + 0.003*means + 0.002*composers + 0.002*god\n"
       ]
      },
      {
       "output_type": "stream",
       "stream": "stderr",
       "text": [
        "INFO:gensim.models.ldamodel:topic #1 (0.100): 0.006*game + 0.005*airlines + 0.005*games + 0.004*series + 0.004*book + 0.004*germany + 0.003*air + 0.003*story + 0.003*movie + 0.003*released\n"
       ]
      },
      {
       "output_type": "stream",
       "stream": "stderr",
       "text": [
        "INFO:gensim.models.ldamodel:topic #2 (0.100): 0.007*px + 0.004*france + 0.004*government + 0.004*king + 0.003*air + 0.003*army + 0.003*soviet + 0.003*house + 0.003*union + 0.003*tower\n"
       ]
      },
      {
       "output_type": "stream",
       "stream": "stderr",
       "text": [
        "INFO:gensim.models.ldamodel:topic #3 (0.100): 0.006*language + 0.004*movie + 0.004*india + 0.003*empire + 0.003*british + 0.003*president + 0.003*countries + 0.003*country + 0.003*tamil + 0.003*award\n"
       ]
      },
      {
       "output_type": "stream",
       "stream": "stderr",
       "text": [
        "INFO:gensim.models.ldamodel:topic #4 (0.100): 0.007*german + 0.007*actor + 0.007*french + 0.007*british + 0.006*king + 0.006*writer + 0.006*president + 0.005*singer + 0.005*ii + 0.005*politician\n"
       ]
      },
      {
       "output_type": "stream",
       "stream": "stderr",
       "text": [
        "INFO:gensim.models.ldamodel:topic #5 (0.100): 0.007*bc + 0.006*island + 0.005*islands + 0.005*country + 0.004*countries + 0.004*river + 0.004*capital + 0.004*east + 0.004*image + 0.003*language\n"
       ]
      },
      {
       "output_type": "stream",
       "stream": "stderr",
       "text": [
        "INFO:gensim.models.ldamodel:topic #6 (0.100): 0.007*person + 0.006*body + 0.005*blood + 0.004*man + 0.004*disease + 0.003*women + 0.003*children + 0.003*woman + 0.003*men + 0.003*cause\n"
       ]
      },
      {
       "output_type": "stream",
       "stream": "stderr",
       "text": [
        "INFO:gensim.models.ldamodel:topic #7 (0.100): 0.004*example + 0.004*jpg + 0.003*metal + 0.003*chemical + 0.003*water + 0.003*file + 0.003*windows + 0.003*compounds + 0.003*data + 0.003*means\n"
       ]
      },
      {
       "output_type": "stream",
       "stream": "stderr",
       "text": [
        "INFO:gensim.models.ldamodel:topic #8 (0.100): 0.004*species + 0.004*food + 0.003*animals + 0.003*things + 0.003*light + 0.003*numbers + 0.003*example + 0.003*human + 0.002*china + 0.002*plants\n"
       ]
      },
      {
       "output_type": "stream",
       "stream": "stderr",
       "text": [
        "INFO:gensim.models.ldamodel:topic #9 (0.100): 0.010*band + 0.009*album + 0.008*music + 0.007*league + 0.006*team + 0.004*won + 0.004*club + 0.004*released + 0.004*song + 0.004*played\n"
       ]
      },
      {
       "output_type": "stream",
       "stream": "stderr",
       "text": [
        "INFO:gensim.models.ldamodel:topic diff=0.853598, rho=0.500000\n"
       ]
      },
      {
       "output_type": "stream",
       "stream": "stderr",
       "text": [
        "INFO:gensim.models.ldamodel:PROGRESS: pass 1, at document #2000/8000\n"
       ]
      },
      {
       "output_type": "stream",
       "stream": "stderr",
       "text": [
        "INFO:gensim.models.ldamodel:merging changes from 2000 documents into a model of 8000 documents\n"
       ]
      },
      {
       "output_type": "stream",
       "stream": "stderr",
       "text": [
        "INFO:gensim.models.ldamodel:topic #0 (0.100): 0.012*music + 0.004*water + 0.004*church + 0.004*god + 0.003*live + 0.003*wrote + 0.003*word + 0.003*means + 0.003*fish + 0.003*person\n"
       ]
      },
      {
       "output_type": "stream",
       "stream": "stderr",
       "text": [
        "INFO:gensim.models.ldamodel:topic #1 (0.100): 0.007*game + 0.006*games + 0.006*mario + 0.005*series + 0.005*books + 0.004*book + 0.004*germany + 0.003*god + 0.003*movie + 0.003*story\n"
       ]
      },
      {
       "output_type": "stream",
       "stream": "stderr",
       "text": [
        "INFO:gensim.models.ldamodel:topic #2 (0.100): 0.008*tower + 0.006*mast + 0.006*transmission + 0.006*government + 0.005*france + 0.004*left + 0.004*union + 0.004*px + 0.004*party + 0.004*king\n"
       ]
      },
      {
       "output_type": "stream",
       "stream": "stderr",
       "text": [
        "INFO:gensim.models.ldamodel:topic #3 (0.100): 0.008*language + 0.005*award + 0.004*india + 0.004*languages + 0.004*countries + 0.004*country + 0.004*movie + 0.004*president + 0.004*empire + 0.003*british\n"
       ]
      },
      {
       "output_type": "stream",
       "stream": "stderr",
       "text": [
        "INFO:gensim.models.ldamodel:topic #4 (0.100): 0.008*actor + 0.007*german + 0.007*british + 0.007*president + 0.006*french + 0.006*singer + 0.006*actress + 0.006*king + 0.006*writer + 0.005*politician\n"
       ]
      },
      {
       "output_type": "stream",
       "stream": "stderr",
       "text": [
        "INFO:gensim.models.ldamodel:topic #5 (0.100): 0.007*country + 0.006*island + 0.006*bc + 0.005*countries + 0.005*river + 0.005*capital + 0.005*islands + 0.004*bridge + 0.004*east + 0.004*language\n"
       ]
      },
      {
       "output_type": "stream",
       "stream": "stderr",
       "text": [
        "INFO:gensim.models.ldamodel:topic #6 (0.100): 0.009*person + 0.007*body + 0.005*blood + 0.004*cells + 0.004*disease + 0.004*man + 0.003*women + 0.003*children + 0.003*men + 0.003*cause\n"
       ]
      },
      {
       "output_type": "stream",
       "stream": "stderr",
       "text": [
        "INFO:gensim.models.ldamodel:topic #7 (0.100): 0.006*example + 0.004*windows + 0.004*word + 0.004*words + 0.004*chemical + 0.004*water + 0.003*things + 0.003*means + 0.003*internet + 0.003*data\n"
       ]
      },
      {
       "output_type": "stream",
       "stream": "stderr",
       "text": [
        "INFO:gensim.models.ldamodel:topic #8 (0.100): 0.005*light + 0.004*earth + 0.004*things + 0.004*food + 0.003*animals + 0.003*species + 0.003*energy + 0.003*numbers + 0.003*example + 0.003*space\n"
       ]
      },
      {
       "output_type": "stream",
       "stream": "stderr",
       "text": [
        "INFO:gensim.models.ldamodel:topic #9 (0.100): 0.011*rgb + 0.011*hex + 0.011*league + 0.007*band + 0.007*music + 0.007*team + 0.007*album + 0.006*club + 0.006*football + 0.005*color\n"
       ]
      },
      {
       "output_type": "stream",
       "stream": "stderr",
       "text": [
        "INFO:gensim.models.ldamodel:topic diff=0.853102, rho=0.447214\n"
       ]
      },
      {
       "output_type": "stream",
       "stream": "stderr",
       "text": [
        "INFO:gensim.models.ldamodel:PROGRESS: pass 1, at document #4000/8000\n"
       ]
      },
      {
       "output_type": "stream",
       "stream": "stderr",
       "text": [
        "INFO:gensim.models.ldamodel:merging changes from 2000 documents into a model of 8000 documents\n"
       ]
      },
      {
       "output_type": "stream",
       "stream": "stderr",
       "text": [
        "INFO:gensim.models.ldamodel:topic #0 (0.100): 0.011*music + 0.005*church + 0.004*water + 0.004*god + 0.004*live + 0.003*fish + 0.003*means + 0.003*wrote + 0.003*word + 0.003*school\n"
       ]
      },
      {
       "output_type": "stream",
       "stream": "stderr",
       "text": [
        "INFO:gensim.models.ldamodel:topic #1 (0.100): 0.008*game + 0.006*games + 0.005*series + 0.005*book + 0.004*books + 0.004*movie + 0.004*mario + 0.004*story + 0.003*god + 0.003*germany\n"
       ]
      },
      {
       "output_type": "stream",
       "stream": "stderr",
       "text": [
        "INFO:gensim.models.ldamodel:topic #2 (0.100): 0.006*tower + 0.006*government + 0.005*france + 0.004*party + 0.004*mast + 0.004*transmission + 0.004*army + 0.003*king + 0.003*union + 0.003*px\n"
       ]
      },
      {
       "output_type": "stream",
       "stream": "stderr",
       "text": [
        "INFO:gensim.models.ldamodel:topic #3 (0.100): 0.009*language + 0.006*award + 0.005*movie + 0.004*india + 0.004*languages + 0.004*country + 0.004*president + 0.004*countries + 0.004*empire + 0.003*british\n"
       ]
      },
      {
       "output_type": "stream",
       "stream": "stderr",
       "text": [
        "INFO:gensim.models.ldamodel:topic #4 (0.100): 0.010*actor + 0.009*german + 0.009*british + 0.008*french + 0.008*singer + 0.008*actress + 0.008*writer + 0.008*footballer + 0.007*president + 0.007*politician\n"
       ]
      },
      {
       "output_type": "stream",
       "stream": "stderr",
       "text": [
        "INFO:gensim.models.ldamodel:topic #5 (0.100): 0.008*country + 0.007*island + 0.006*capital + 0.006*river + 0.005*countries + 0.005*bc + 0.005*islands + 0.004*sea + 0.004*population + 0.004*east\n"
       ]
      },
      {
       "output_type": "stream",
       "stream": "stderr",
       "text": [
        "INFO:gensim.models.ldamodel:topic #6 (0.100): 0.009*person + 0.008*body + 0.007*blood + 0.005*women + 0.004*disease + 0.004*man + 0.004*woman + 0.004*cells + 0.004*men + 0.004*sex\n"
       ]
      },
      {
       "output_type": "stream",
       "stream": "stderr",
       "text": [
        "INFO:gensim.models.ldamodel:topic #7 (0.100): 0.006*example + 0.005*windows + 0.004*word + 0.004*means + 0.004*words + 0.004*chemical + 0.003*things + 0.003*water + 0.003*file + 0.003*data\n"
       ]
      },
      {
       "output_type": "stream",
       "stream": "stderr",
       "text": [
        "INFO:gensim.models.ldamodel:topic #8 (0.100): 0.005*light + 0.004*things + 0.004*food + 0.004*species + 0.004*earth + 0.004*animals + 0.003*plants + 0.003*example + 0.003*water + 0.003*energy\n"
       ]
      },
      {
       "output_type": "stream",
       "stream": "stderr",
       "text": [
        "INFO:gensim.models.ldamodel:topic #9 (0.100): 0.012*band + 0.011*album + 0.011*rgb + 0.010*hex + 0.008*music + 0.008*league + 0.005*rock + 0.005*color + 0.005*released + 0.005*team\n"
       ]
      },
      {
       "output_type": "stream",
       "stream": "stderr",
       "text": [
        "INFO:gensim.models.ldamodel:topic diff=0.642949, rho=0.408248\n"
       ]
      },
      {
       "output_type": "stream",
       "stream": "stderr",
       "text": [
        "INFO:gensim.models.ldamodel:PROGRESS: pass 1, at document #6000/8000\n"
       ]
      },
      {
       "output_type": "stream",
       "stream": "stderr",
       "text": [
        "INFO:gensim.models.ldamodel:merging changes from 2000 documents into a model of 8000 documents\n"
       ]
      },
      {
       "output_type": "stream",
       "stream": "stderr",
       "text": [
        "INFO:gensim.models.ldamodel:topic #0 (0.100): 0.012*music + 0.005*church + 0.004*god + 0.004*water + 0.004*live + 0.003*fish + 0.003*jesus + 0.003*means + 0.003*word + 0.003*roman\n"
       ]
      },
      {
       "output_type": "stream",
       "stream": "stderr",
       "text": [
        "INFO:gensim.models.ldamodel:topic #1 (0.100): 0.008*game + 0.006*series + 0.006*book + 0.005*games + 0.005*movie + 0.005*books + 0.004*story + 0.003*god + 0.003*character + 0.003*movies\n"
       ]
      },
      {
       "output_type": "stream",
       "stream": "stderr",
       "text": [
        "INFO:gensim.models.ldamodel:topic #2 (0.100): 0.006*government + 0.005*tower + 0.005*france + 0.004*party + 0.004*army + 0.004*king + 0.003*germany + 0.003*house + 0.003*left + 0.003*union\n"
       ]
      },
      {
       "output_type": "stream",
       "stream": "stderr",
       "text": [
        "INFO:gensim.models.ldamodel:topic #3 (0.100): 0.010*language + 0.006*award + 0.005*movie + 0.005*languages + 0.004*india + 0.004*empire + 0.004*country + 0.003*countries + 0.003*president + 0.003*awards\n"
       ]
      },
      {
       "output_type": "stream",
       "stream": "stderr",
       "text": [
        "INFO:gensim.models.ldamodel:topic #4 (0.100): 0.009*actor + 0.009*german + 0.008*french + 0.008*british + 0.007*singer + 0.007*writer + 0.007*actress + 0.007*president + 0.007*footballer + 0.007*politician\n"
       ]
      },
      {
       "output_type": "stream",
       "stream": "stderr",
       "text": [
        "INFO:gensim.models.ldamodel:topic #5 (0.100): 0.008*country + 0.008*island + 0.006*islands + 0.006*capital + 0.006*river + 0.006*bc + 0.005*countries + 0.004*east + 0.004*population + 0.004*sea\n"
       ]
      },
      {
       "output_type": "stream",
       "stream": "stderr",
       "text": [
        "INFO:gensim.models.ldamodel:topic #6 (0.100): 0.010*person + 0.008*body + 0.006*blood + 0.005*man + 0.004*woman + 0.004*disease + 0.004*women + 0.004*cells + 0.004*sex + 0.003*children\n"
       ]
      },
      {
       "output_type": "stream",
       "stream": "stderr",
       "text": [
        "INFO:gensim.models.ldamodel:topic #7 (0.100): 0.006*example + 0.004*windows + 0.004*chemical + 0.004*word + 0.004*means + 0.003*water + 0.003*metal + 0.003*data + 0.003*compounds + 0.003*raid\n"
       ]
      },
      {
       "output_type": "stream",
       "stream": "stderr",
       "text": [
        "INFO:gensim.models.ldamodel:topic #8 (0.100): 0.005*species + 0.005*light + 0.004*food + 0.004*animals + 0.004*things + 0.004*earth + 0.003*numbers + 0.003*plants + 0.003*water + 0.003*example\n"
       ]
      },
      {
       "output_type": "stream",
       "stream": "stderr",
       "text": [
        "INFO:gensim.models.ldamodel:topic #9 (0.100): 0.011*band + 0.010*album + 0.009*music + 0.008*rgb + 0.007*hex + 0.007*league + 0.006*team + 0.006*rock + 0.005*released + 0.005*won\n"
       ]
      },
      {
       "output_type": "stream",
       "stream": "stderr",
       "text": [
        "INFO:gensim.models.ldamodel:topic diff=0.489884, rho=0.377964\n"
       ]
      },
      {
       "output_type": "stream",
       "stream": "stderr",
       "text": [
        "INFO:gensim.models.ldamodel:-8.782 per-word bound, 440.3 perplexity estimate based on a held-out corpus of 2000 documents with 324558 words\n"
       ]
      },
      {
       "output_type": "stream",
       "stream": "stderr",
       "text": [
        "INFO:gensim.models.ldamodel:PROGRESS: pass 1, at document #8000/8000\n"
       ]
      },
      {
       "output_type": "stream",
       "stream": "stderr",
       "text": [
        "INFO:gensim.models.ldamodel:merging changes from 2000 documents into a model of 8000 documents\n"
       ]
      },
      {
       "output_type": "stream",
       "stream": "stderr",
       "text": [
        "INFO:gensim.models.ldamodel:topic #0 (0.100): 0.016*music + 0.005*wrote + 0.005*church + 0.004*god + 0.004*water + 0.003*live + 0.003*instruments + 0.003*piano + 0.003*means + 0.003*word\n"
       ]
      },
      {
       "output_type": "stream",
       "stream": "stderr",
       "text": [
        "INFO:gensim.models.ldamodel:topic #1 (0.100): 0.007*game + 0.006*series + 0.005*movie + 0.005*airlines + 0.005*book + 0.005*story + 0.005*games + 0.004*books + 0.004*air + 0.003*character\n"
       ]
      },
      {
       "output_type": "stream",
       "stream": "stderr",
       "text": [
        "INFO:gensim.models.ldamodel:topic #2 (0.100): 0.006*government + 0.005*px + 0.005*france + 0.004*army + 0.004*king + 0.004*party + 0.004*soviet + 0.004*union + 0.004*house + 0.004*tower\n"
       ]
      },
      {
       "output_type": "stream",
       "stream": "stderr",
       "text": [
        "INFO:gensim.models.ldamodel:topic #3 (0.100): 0.010*language + 0.008*india + 0.006*award + 0.005*languages + 0.005*empire + 0.004*countries + 0.004*movie + 0.004*pakistan + 0.004*country + 0.004*british\n"
       ]
      },
      {
       "output_type": "stream",
       "stream": "stderr",
       "text": [
        "INFO:gensim.models.ldamodel:topic #4 (0.100): 0.008*actor + 0.008*german + 0.008*french + 0.008*british + 0.007*writer + 0.007*singer + 0.007*president + 0.006*actress + 0.006*king + 0.006*politician\n"
       ]
      },
      {
       "output_type": "stream",
       "stream": "stderr",
       "text": [
        "INFO:gensim.models.ldamodel:topic #5 (0.100): 0.007*bc + 0.007*island + 0.007*country + 0.006*islands + 0.006*river + 0.006*capital + 0.005*east + 0.005*jpg + 0.005*countries + 0.004*image\n"
       ]
      },
      {
       "output_type": "stream",
       "stream": "stderr",
       "text": [
        "INFO:gensim.models.ldamodel:topic #6 (0.100): 0.011*person + 0.008*body + 0.007*blood + 0.005*disease + 0.005*women + 0.004*man + 0.004*woman + 0.004*cells + 0.004*children + 0.004*men\n"
       ]
      },
      {
       "output_type": "stream",
       "stream": "stderr",
       "text": [
        "INFO:gensim.models.ldamodel:topic #7 (0.100): 0.006*example + 0.004*chemical + 0.004*windows + 0.004*word + 0.004*data + 0.004*water + 0.003*metal + 0.003*means + 0.003*compounds + 0.003*words\n"
       ]
      },
      {
       "output_type": "stream",
       "stream": "stderr",
       "text": [
        "INFO:gensim.models.ldamodel:topic #8 (0.100): 0.006*species + 0.005*light + 0.004*food + 0.004*animals + 0.004*plants + 0.004*things + 0.003*earth + 0.003*water + 0.003*space + 0.003*numbers\n"
       ]
      },
      {
       "output_type": "stream",
       "stream": "stderr",
       "text": [
        "INFO:gensim.models.ldamodel:topic #9 (0.100): 0.012*band + 0.011*album + 0.010*music + 0.008*league + 0.007*team + 0.006*song + 0.005*rock + 0.005*released + 0.005*rgb + 0.005*hex\n"
       ]
      },
      {
       "output_type": "stream",
       "stream": "stderr",
       "text": [
        "INFO:gensim.models.ldamodel:topic diff=0.435355, rho=0.353553\n"
       ]
      },
      {
       "output_type": "stream",
       "stream": "stderr",
       "text": [
        "INFO:gensim.models.ldamodel:PROGRESS: pass 2, at document #2000/8000\n"
       ]
      },
      {
       "output_type": "stream",
       "stream": "stderr",
       "text": [
        "INFO:gensim.models.ldamodel:merging changes from 2000 documents into a model of 8000 documents\n"
       ]
      },
      {
       "output_type": "stream",
       "stream": "stderr",
       "text": [
        "INFO:gensim.models.ldamodel:topic #0 (0.100): 0.014*music + 0.006*church + 0.006*god + 0.004*water + 0.004*wrote + 0.003*live + 0.003*word + 0.003*roman + 0.003*means + 0.003*fish\n"
       ]
      },
      {
       "output_type": "stream",
       "stream": "stderr",
       "text": [
        "INFO:gensim.models.ldamodel:topic #1 (0.100): 0.007*game + 0.006*series + 0.006*book + 0.006*books + 0.006*movie + 0.005*mario + 0.005*games + 0.004*story + 0.004*airlines + 0.004*movies\n"
       ]
      },
      {
       "output_type": "stream",
       "stream": "stderr",
       "text": [
        "INFO:gensim.models.ldamodel:topic #2 (0.100): 0.007*tower + 0.007*government + 0.005*mast + 0.005*france + 0.005*party + 0.005*transmission + 0.004*union + 0.004*king + 0.004*soviet + 0.004*army\n"
       ]
      },
      {
       "output_type": "stream",
       "stream": "stderr",
       "text": [
        "INFO:gensim.models.ldamodel:topic #3 (0.100): 0.011*language + 0.008*india + 0.007*award + 0.006*languages + 0.005*countries + 0.004*empire + 0.004*country + 0.004*pakistan + 0.004*games + 0.004*movie\n"
       ]
      },
      {
       "output_type": "stream",
       "stream": "stderr",
       "text": [
        "INFO:gensim.models.ldamodel:topic #4 (0.100): 0.009*actor + 0.008*german + 0.008*british + 0.007*french + 0.007*president + 0.007*singer + 0.007*actress + 0.006*writer + 0.006*king + 0.006*politician\n"
       ]
      },
      {
       "output_type": "stream",
       "stream": "stderr",
       "text": [
        "INFO:gensim.models.ldamodel:topic #5 (0.100): 0.008*country + 0.007*island + 0.006*river + 0.006*bc + 0.006*capital + 0.005*islands + 0.005*countries + 0.005*east + 0.004*sea + 0.004*republic\n"
       ]
      },
      {
       "output_type": "stream",
       "stream": "stderr",
       "text": [
        "INFO:gensim.models.ldamodel:topic #6 (0.100): 0.012*person + 0.009*body + 0.006*blood + 0.005*cells + 0.005*disease + 0.004*women + 0.004*man + 0.004*woman + 0.004*cause + 0.004*men\n"
       ]
      },
      {
       "output_type": "stream",
       "stream": "stderr",
       "text": [
        "INFO:gensim.models.ldamodel:topic #7 (0.100): 0.007*example + 0.005*word + 0.004*windows + 0.004*words + 0.004*chemical + 0.004*water + 0.004*things + 0.004*means + 0.003*internet + 0.003*data\n"
       ]
      },
      {
       "output_type": "stream",
       "stream": "stderr",
       "text": [
        "INFO:gensim.models.ldamodel:topic #8 (0.100): 0.006*light + 0.005*earth + 0.004*food + 0.004*species + 0.004*animals + 0.004*water + 0.004*things + 0.004*plants + 0.004*energy + 0.003*space\n"
       ]
      },
      {
       "output_type": "stream",
       "stream": "stderr",
       "text": [
        "INFO:gensim.models.ldamodel:topic #9 (0.100): 0.010*league + 0.010*rgb + 0.010*hex + 0.010*band + 0.009*music + 0.009*album + 0.008*team + 0.006*club + 0.006*football + 0.005*rock\n"
       ]
      },
      {
       "output_type": "stream",
       "stream": "stderr",
       "text": [
        "INFO:gensim.models.ldamodel:topic diff=0.478712, rho=0.333333\n"
       ]
      },
      {
       "output_type": "stream",
       "stream": "stderr",
       "text": [
        "INFO:gensim.models.ldamodel:PROGRESS: pass 2, at document #4000/8000\n"
       ]
      },
      {
       "output_type": "stream",
       "stream": "stderr",
       "text": [
        "INFO:gensim.models.ldamodel:merging changes from 2000 documents into a model of 8000 documents\n"
       ]
      },
      {
       "output_type": "stream",
       "stream": "stderr",
       "text": [
        "INFO:gensim.models.ldamodel:topic #0 (0.100): 0.014*music + 0.006*church + 0.006*god + 0.004*water + 0.004*wrote + 0.004*fish + 0.003*live + 0.003*word + 0.003*jesus + 0.003*means\n"
       ]
      },
      {
       "output_type": "stream",
       "stream": "stderr",
       "text": [
        "INFO:gensim.models.ldamodel:topic #1 (0.100): 0.008*game + 0.006*movie + 0.006*book + 0.006*series + 0.005*books + 0.005*games + 0.005*story + 0.004*movies + 0.004*mario + 0.003*god\n"
       ]
      },
      {
       "output_type": "stream",
       "stream": "stderr",
       "text": [
        "INFO:gensim.models.ldamodel:topic #2 (0.100): 0.007*government + 0.006*tower + 0.005*party + 0.005*president + 0.005*france + 0.004*army + 0.004*king + 0.004*union + 0.004*house + 0.003*germany\n"
       ]
      },
      {
       "output_type": "stream",
       "stream": "stderr",
       "text": [
        "INFO:gensim.models.ldamodel:topic #3 (0.100): 0.012*language + 0.008*award + 0.007*india + 0.006*languages + 0.005*empire + 0.004*countries + 0.004*al + 0.004*country + 0.004*movie + 0.003*pakistan\n"
       ]
      },
      {
       "output_type": "stream",
       "stream": "stderr",
       "text": [
        "INFO:gensim.models.ldamodel:topic #4 (0.100): 0.010*actor + 0.009*german + 0.009*british + 0.009*french + 0.008*singer + 0.008*actress + 0.008*writer + 0.008*footballer + 0.007*president + 0.007*politician\n"
       ]
      },
      {
       "output_type": "stream",
       "stream": "stderr",
       "text": [
        "INFO:gensim.models.ldamodel:topic #5 (0.100): 0.008*country + 0.007*island + 0.007*river + 0.006*capital + 0.005*bc + 0.005*islands + 0.005*countries + 0.005*sea + 0.005*east + 0.005*largest\n"
       ]
      },
      {
       "output_type": "stream",
       "stream": "stderr",
       "text": [
        "INFO:gensim.models.ldamodel:topic #6 (0.100): 0.011*person + 0.009*body + 0.007*blood + 0.005*women + 0.005*disease + 0.005*cells + 0.005*woman + 0.004*man + 0.004*men + 0.004*sex\n"
       ]
      },
      {
       "output_type": "stream",
       "stream": "stderr",
       "text": [
        "INFO:gensim.models.ldamodel:topic #7 (0.100): 0.006*example + 0.005*windows + 0.004*word + 0.004*means + 0.004*words + 0.004*chemical + 0.003*things + 0.003*water + 0.003*data + 0.003*internet\n"
       ]
      },
      {
       "output_type": "stream",
       "stream": "stderr",
       "text": [
        "INFO:gensim.models.ldamodel:topic #8 (0.100): 0.006*light + 0.005*species + 0.005*earth + 0.005*food + 0.004*animals + 0.004*water + 0.004*things + 0.004*plants + 0.003*energy + 0.003*space\n"
       ]
      },
      {
       "output_type": "stream",
       "stream": "stderr",
       "text": [
        "INFO:gensim.models.ldamodel:topic #9 (0.100): 0.013*band + 0.012*album + 0.010*rgb + 0.010*hex + 0.009*music + 0.008*league + 0.006*rock + 0.006*team + 0.006*released + 0.005*song\n"
       ]
      },
      {
       "output_type": "stream",
       "stream": "stderr",
       "text": [
        "INFO:gensim.models.ldamodel:topic diff=0.369309, rho=0.316228\n"
       ]
      },
      {
       "output_type": "stream",
       "stream": "stderr",
       "text": [
        "INFO:gensim.models.ldamodel:PROGRESS: pass 2, at document #6000/8000\n"
       ]
      },
      {
       "output_type": "stream",
       "stream": "stderr",
       "text": [
        "INFO:gensim.models.ldamodel:merging changes from 2000 documents into a model of 8000 documents\n"
       ]
      },
      {
       "output_type": "stream",
       "stream": "stderr",
       "text": [
        "INFO:gensim.models.ldamodel:topic #0 (0.100): 0.013*music + 0.006*church + 0.006*god + 0.004*water + 0.003*fish + 0.003*jesus + 0.003*wrote + 0.003*live + 0.003*roman + 0.003*word\n"
       ]
      },
      {
       "output_type": "stream",
       "stream": "stderr",
       "text": [
        "INFO:gensim.models.ldamodel:topic #1 (0.100): 0.008*game + 0.007*movie + 0.006*series + 0.006*book + 0.005*books + 0.005*story + 0.005*games + 0.004*movies + 0.003*character + 0.003*man\n"
       ]
      },
      {
       "output_type": "stream",
       "stream": "stderr",
       "text": [
        "INFO:gensim.models.ldamodel:topic #2 (0.100): 0.007*government + 0.005*party + 0.005*tower + 0.005*france + 0.004*army + 0.004*president + 0.004*king + 0.004*germany + 0.004*house + 0.004*union\n"
       ]
      },
      {
       "output_type": "stream",
       "stream": "stderr",
       "text": [
        "INFO:gensim.models.ldamodel:topic #3 (0.100): 0.013*language + 0.008*award + 0.007*india + 0.006*languages + 0.005*empire + 0.004*al + 0.004*country + 0.004*countries + 0.004*movie + 0.004*pakistan\n"
       ]
      },
      {
       "output_type": "stream",
       "stream": "stderr",
       "text": [
        "INFO:gensim.models.ldamodel:topic #4 (0.100): 0.010*actor + 0.009*german + 0.009*french + 0.009*british + 0.008*singer + 0.008*writer + 0.007*actress + 0.007*president + 0.007*footballer + 0.007*politician\n"
       ]
      },
      {
       "output_type": "stream",
       "stream": "stderr",
       "text": [
        "INFO:gensim.models.ldamodel:topic #5 (0.100): 0.008*country + 0.008*island + 0.007*river + 0.006*capital + 0.006*islands + 0.006*bc + 0.005*east + 0.005*sea + 0.005*population + 0.005*jpg\n"
       ]
      },
      {
       "output_type": "stream",
       "stream": "stderr",
       "text": [
        "INFO:gensim.models.ldamodel:topic #6 (0.100): 0.012*person + 0.009*body + 0.007*blood + 0.005*disease + 0.005*women + 0.005*woman + 0.005*man + 0.004*cells + 0.004*sex + 0.004*men\n"
       ]
      },
      {
       "output_type": "stream",
       "stream": "stderr",
       "text": [
        "INFO:gensim.models.ldamodel:topic #7 (0.100): 0.006*example + 0.004*word + 0.004*windows + 0.004*chemical + 0.004*means + 0.003*data + 0.003*things + 0.003*metal + 0.003*water + 0.003*words\n"
       ]
      },
      {
       "output_type": "stream",
       "stream": "stderr",
       "text": [
        "INFO:gensim.models.ldamodel:topic #8 (0.100): 0.006*species + 0.005*light + 0.005*food + 0.005*earth + 0.005*animals + 0.004*water + 0.004*plants + 0.004*things + 0.003*energy + 0.003*space\n"
       ]
      },
      {
       "output_type": "stream",
       "stream": "stderr",
       "text": [
        "INFO:gensim.models.ldamodel:topic #9 (0.100): 0.011*band + 0.011*album + 0.010*music + 0.008*rgb + 0.008*hex + 0.008*league + 0.007*team + 0.006*rock + 0.005*released + 0.005*song\n"
       ]
      },
      {
       "output_type": "stream",
       "stream": "stderr",
       "text": [
        "INFO:gensim.models.ldamodel:topic diff=0.275453, rho=0.301511\n"
       ]
      },
      {
       "output_type": "stream",
       "stream": "stderr",
       "text": [
        "INFO:gensim.models.ldamodel:-8.689 per-word bound, 412.6 perplexity estimate based on a held-out corpus of 2000 documents with 324558 words\n"
       ]
      },
      {
       "output_type": "stream",
       "stream": "stderr",
       "text": [
        "INFO:gensim.models.ldamodel:PROGRESS: pass 2, at document #8000/8000\n"
       ]
      },
      {
       "output_type": "stream",
       "stream": "stderr",
       "text": [
        "INFO:gensim.models.ldamodel:merging changes from 2000 documents into a model of 8000 documents\n"
       ]
      },
      {
       "output_type": "stream",
       "stream": "stderr",
       "text": [
        "INFO:gensim.models.ldamodel:topic #0 (0.100): 0.017*music + 0.006*church + 0.005*god + 0.005*wrote + 0.003*water + 0.003*instruments + 0.003*piano + 0.003*word + 0.003*play + 0.003*means\n"
       ]
      },
      {
       "output_type": "stream",
       "stream": "stderr",
       "text": [
        "INFO:gensim.models.ldamodel:topic #1 (0.100): 0.007*game + 0.007*movie + 0.006*series + 0.006*book + 0.005*story + 0.005*airlines + 0.004*books + 0.004*games + 0.004*air + 0.004*movies\n"
       ]
      },
      {
       "output_type": "stream",
       "stream": "stderr",
       "text": [
        "INFO:gensim.models.ldamodel:topic #2 (0.100): 0.007*government + 0.005*px + 0.005*party + 0.005*army + 0.004*king + 0.004*president + 0.004*france + 0.004*soviet + 0.004*union + 0.004*house\n"
       ]
      },
      {
       "output_type": "stream",
       "stream": "stderr",
       "text": [
        "INFO:gensim.models.ldamodel:topic #3 (0.100): 0.013*language + 0.010*india + 0.007*award + 0.006*languages + 0.005*empire + 0.005*countries + 0.004*pakistan + 0.004*games + 0.004*al + 0.004*country\n"
       ]
      },
      {
       "output_type": "stream",
       "stream": "stderr",
       "text": [
        "INFO:gensim.models.ldamodel:topic #4 (0.100): 0.009*actor + 0.009*german + 0.008*french + 0.008*british + 0.007*writer + 0.007*singer + 0.007*actress + 0.007*president + 0.006*footballer + 0.006*politician\n"
       ]
      },
      {
       "output_type": "stream",
       "stream": "stderr",
       "text": [
        "INFO:gensim.models.ldamodel:topic #5 (0.100): 0.007*island + 0.007*country + 0.007*bc + 0.006*river + 0.006*capital + 0.006*islands + 0.005*east + 0.005*jpg + 0.004*sea + 0.004*largest\n"
       ]
      },
      {
       "output_type": "stream",
       "stream": "stderr",
       "text": [
        "INFO:gensim.models.ldamodel:topic #6 (0.100): 0.012*person + 0.009*body + 0.007*blood + 0.005*disease + 0.005*women + 0.004*cells + 0.004*woman + 0.004*man + 0.004*cause + 0.004*men\n"
       ]
      },
      {
       "output_type": "stream",
       "stream": "stderr",
       "text": [
        "INFO:gensim.models.ldamodel:topic #7 (0.100): 0.006*example + 0.004*windows + 0.004*chemical + 0.004*word + 0.004*data + 0.004*means + 0.003*water + 0.003*metal + 0.003*words + 0.003*things\n"
       ]
      },
      {
       "output_type": "stream",
       "stream": "stderr",
       "text": [
        "INFO:gensim.models.ldamodel:topic #8 (0.100): 0.006*species + 0.005*light + 0.005*food + 0.005*animals + 0.004*earth + 0.004*water + 0.004*plants + 0.003*things + 0.003*space + 0.003*eat\n"
       ]
      },
      {
       "output_type": "stream",
       "stream": "stderr",
       "text": [
        "INFO:gensim.models.ldamodel:topic #9 (0.100): 0.013*band + 0.012*album + 0.010*music + 0.008*league + 0.008*team + 0.006*rock + 0.006*rgb + 0.006*hex + 0.006*song + 0.006*released\n"
       ]
      },
      {
       "output_type": "stream",
       "stream": "stderr",
       "text": [
        "INFO:gensim.models.ldamodel:topic diff=0.254413, rho=0.288675\n"
       ]
      },
      {
       "output_type": "stream",
       "stream": "stderr",
       "text": [
        "INFO:gensim.models.ldamodel:PROGRESS: pass 3, at document #2000/8000\n"
       ]
      },
      {
       "output_type": "stream",
       "stream": "stderr",
       "text": [
        "INFO:gensim.models.ldamodel:merging changes from 2000 documents into a model of 8000 documents\n"
       ]
      },
      {
       "output_type": "stream",
       "stream": "stderr",
       "text": [
        "INFO:gensim.models.ldamodel:topic #0 (0.100): 0.016*music + 0.007*god + 0.006*church + 0.005*wrote + 0.003*word + 0.003*roman + 0.003*piano + 0.003*means + 0.003*jesus + 0.003*water\n"
       ]
      },
      {
       "output_type": "stream",
       "stream": "stderr",
       "text": [
        "INFO:gensim.models.ldamodel:topic #1 (0.100): 0.007*game + 0.007*movie + 0.006*series + 0.006*book + 0.006*books + 0.005*story + 0.005*mario + 0.004*games + 0.004*movies + 0.004*airlines\n"
       ]
      },
      {
       "output_type": "stream",
       "stream": "stderr",
       "text": [
        "INFO:gensim.models.ldamodel:topic #2 (0.100): 0.007*government + 0.006*tower + 0.005*party + 0.005*president + 0.005*france + 0.004*king + 0.004*union + 0.004*mast + 0.004*army + 0.004*transmission\n"
       ]
      },
      {
       "output_type": "stream",
       "stream": "stderr",
       "text": [
        "INFO:gensim.models.ldamodel:topic #3 (0.100): 0.014*language + 0.009*india + 0.008*award + 0.007*languages + 0.005*empire + 0.005*countries + 0.005*games + 0.004*pakistan + 0.004*country + 0.004*al\n"
       ]
      },
      {
       "output_type": "stream",
       "stream": "stderr",
       "text": [
        "INFO:gensim.models.ldamodel:topic #4 (0.100): 0.009*actor + 0.008*german + 0.008*british + 0.008*french + 0.007*singer + 0.007*actress + 0.007*president + 0.007*writer + 0.006*politician + 0.006*footballer\n"
       ]
      },
      {
       "output_type": "stream",
       "stream": "stderr",
       "text": [
        "INFO:gensim.models.ldamodel:topic #5 (0.100): 0.008*country + 0.007*island + 0.007*river + 0.006*capital + 0.006*bc + 0.005*islands + 0.005*east + 0.005*sea + 0.005*largest + 0.005*countries\n"
       ]
      },
      {
       "output_type": "stream",
       "stream": "stderr",
       "text": [
        "INFO:gensim.models.ldamodel:topic #6 (0.100): 0.013*person + 0.009*body + 0.007*blood + 0.005*cells + 0.005*disease + 0.005*women + 0.004*man + 0.004*cause + 0.004*human + 0.004*woman\n"
       ]
      },
      {
       "output_type": "stream",
       "stream": "stderr",
       "text": [
        "INFO:gensim.models.ldamodel:topic #7 (0.100): 0.007*example + 0.005*word + 0.004*windows + 0.004*chemical + 0.004*words + 0.004*things + 0.004*means + 0.003*water + 0.003*internet + 0.003*data\n"
       ]
      },
      {
       "output_type": "stream",
       "stream": "stderr",
       "text": [
        "INFO:gensim.models.ldamodel:topic #8 (0.100): 0.006*light + 0.006*earth + 0.005*species + 0.005*water + 0.005*food + 0.005*animals + 0.004*plants + 0.004*things + 0.004*energy + 0.003*space\n"
       ]
      },
      {
       "output_type": "stream",
       "stream": "stderr",
       "text": [
        "INFO:gensim.models.ldamodel:topic #9 (0.100): 0.011*band + 0.010*league + 0.010*rgb + 0.010*hex + 0.009*album + 0.009*music + 0.008*team + 0.006*club + 0.006*football + 0.006*rock\n"
       ]
      },
      {
       "output_type": "stream",
       "stream": "stderr",
       "text": [
        "INFO:gensim.models.ldamodel:topic diff=0.303498, rho=0.277350\n"
       ]
      },
      {
       "output_type": "stream",
       "stream": "stderr",
       "text": [
        "INFO:gensim.models.ldamodel:PROGRESS: pass 3, at document #4000/8000\n"
       ]
      },
      {
       "output_type": "stream",
       "stream": "stderr",
       "text": [
        "INFO:gensim.models.ldamodel:merging changes from 2000 documents into a model of 8000 documents\n"
       ]
      },
      {
       "output_type": "stream",
       "stream": "stderr",
       "text": [
        "INFO:gensim.models.ldamodel:topic #0 (0.100): 0.015*music + 0.007*god + 0.007*church + 0.004*wrote + 0.003*word + 0.003*fish + 0.003*jesus + 0.003*roman + 0.003*means + 0.003*believe\n"
       ]
      },
      {
       "output_type": "stream",
       "stream": "stderr",
       "text": [
        "INFO:gensim.models.ldamodel:topic #1 (0.100): 0.008*game + 0.007*movie + 0.006*book + 0.006*series + 0.005*books + 0.005*story + 0.004*movies + 0.004*games + 0.004*mario + 0.003*television\n"
       ]
      },
      {
       "output_type": "stream",
       "stream": "stderr",
       "text": [
        "INFO:gensim.models.ldamodel:topic #2 (0.100): 0.007*government + 0.006*president + 0.005*tower + 0.005*party + 0.004*army + 0.004*france + 0.004*king + 0.004*union + 0.004*countries + 0.004*house\n"
       ]
      },
      {
       "output_type": "stream",
       "stream": "stderr",
       "text": [
        "INFO:gensim.models.ldamodel:topic #3 (0.100): 0.014*language + 0.009*india + 0.008*award + 0.007*languages + 0.005*al + 0.005*empire + 0.005*countries + 0.004*country + 0.004*games + 0.004*pakistan\n"
       ]
      },
      {
       "output_type": "stream",
       "stream": "stderr",
       "text": [
        "INFO:gensim.models.ldamodel:topic #4 (0.100): 0.010*actor + 0.009*german + 0.009*british + 0.009*french + 0.008*singer + 0.008*actress + 0.008*writer + 0.008*footballer + 0.007*politician + 0.007*president\n"
       ]
      },
      {
       "output_type": "stream",
       "stream": "stderr",
       "text": [
        "INFO:gensim.models.ldamodel:topic #5 (0.100): 0.008*country + 0.007*island + 0.007*river + 0.007*capital + 0.005*bc + 0.005*islands + 0.005*sea + 0.005*east + 0.005*largest + 0.005*jpg\n"
       ]
      },
      {
       "output_type": "stream",
       "stream": "stderr",
       "text": [
        "INFO:gensim.models.ldamodel:topic #6 (0.100): 0.012*person + 0.009*body + 0.008*blood + 0.005*disease + 0.005*women + 0.005*cells + 0.005*woman + 0.004*man + 0.004*sex + 0.004*men\n"
       ]
      },
      {
       "output_type": "stream",
       "stream": "stderr",
       "text": [
        "INFO:gensim.models.ldamodel:topic #7 (0.100): 0.006*example + 0.004*windows + 0.004*word + 0.004*means + 0.004*chemical + 0.004*words + 0.004*things + 0.003*data + 0.003*water + 0.003*internet\n"
       ]
      },
      {
       "output_type": "stream",
       "stream": "stderr",
       "text": [
        "INFO:gensim.models.ldamodel:topic #8 (0.100): 0.006*light + 0.006*species + 0.005*earth + 0.005*water + 0.005*food + 0.005*animals + 0.004*plants + 0.004*things + 0.003*energy + 0.003*space\n"
       ]
      },
      {
       "output_type": "stream",
       "stream": "stderr",
       "text": [
        "INFO:gensim.models.ldamodel:topic #9 (0.100): 0.013*band + 0.012*album + 0.010*rgb + 0.010*hex + 0.010*music + 0.008*league + 0.007*rock + 0.006*team + 0.006*released + 0.006*song\n"
       ]
      },
      {
       "output_type": "stream",
       "stream": "stderr",
       "text": [
        "INFO:gensim.models.ldamodel:topic diff=0.241663, rho=0.267261\n"
       ]
      },
      {
       "output_type": "stream",
       "stream": "stderr",
       "text": [
        "INFO:gensim.models.ldamodel:PROGRESS: pass 3, at document #6000/8000\n"
       ]
      },
      {
       "output_type": "stream",
       "stream": "stderr",
       "text": [
        "INFO:gensim.models.ldamodel:merging changes from 2000 documents into a model of 8000 documents\n"
       ]
      },
      {
       "output_type": "stream",
       "stream": "stderr",
       "text": [
        "INFO:gensim.models.ldamodel:topic #0 (0.100): 0.015*music + 0.007*god + 0.007*church + 0.004*wrote + 0.004*jesus + 0.004*roman + 0.003*word + 0.003*fish + 0.003*means + 0.003*believe\n"
       ]
      },
      {
       "output_type": "stream",
       "stream": "stderr",
       "text": [
        "INFO:gensim.models.ldamodel:topic #1 (0.100): 0.008*movie + 0.007*game + 0.006*book + 0.006*series + 0.005*books + 0.005*story + 0.004*movies + 0.004*games + 0.003*man + 0.003*character\n"
       ]
      },
      {
       "output_type": "stream",
       "stream": "stderr",
       "text": [
        "INFO:gensim.models.ldamodel:topic #2 (0.100): 0.007*government + 0.005*president + 0.005*party + 0.005*tower + 0.005*army + 0.005*france + 0.004*king + 0.004*germany + 0.004*union + 0.004*house\n"
       ]
      },
      {
       "output_type": "stream",
       "stream": "stderr",
       "text": [
        "INFO:gensim.models.ldamodel:topic #3 (0.100): 0.015*language + 0.009*india + 0.008*award + 0.007*languages + 0.006*empire + 0.005*al + 0.005*countries + 0.004*country + 0.004*pakistan + 0.004*games\n"
       ]
      },
      {
       "output_type": "stream",
       "stream": "stderr",
       "text": [
        "INFO:gensim.models.ldamodel:topic #4 (0.100): 0.010*actor + 0.009*german + 0.009*french + 0.009*british + 0.008*singer + 0.008*writer + 0.008*actress + 0.007*footballer + 0.007*president + 0.007*politician\n"
       ]
      },
      {
       "output_type": "stream",
       "stream": "stderr",
       "text": [
        "INFO:gensim.models.ldamodel:topic #5 (0.100): 0.008*island + 0.008*country + 0.007*river + 0.007*capital + 0.006*islands + 0.006*bc + 0.005*east + 0.005*jpg + 0.005*sea + 0.005*population\n"
       ]
      },
      {
       "output_type": "stream",
       "stream": "stderr",
       "text": [
        "INFO:gensim.models.ldamodel:topic #6 (0.100): 0.013*person + 0.010*body + 0.007*blood + 0.005*disease + 0.005*women + 0.005*cells + 0.005*woman + 0.005*man + 0.004*sex + 0.004*cause\n"
       ]
      },
      {
       "output_type": "stream",
       "stream": "stderr",
       "text": [
        "INFO:gensim.models.ldamodel:topic #7 (0.100): 0.007*example + 0.004*windows + 0.004*word + 0.004*chemical + 0.004*means + 0.003*things + 0.003*data + 0.003*metal + 0.003*words + 0.003*water\n"
       ]
      },
      {
       "output_type": "stream",
       "stream": "stderr",
       "text": [
        "INFO:gensim.models.ldamodel:topic #8 (0.100): 0.006*species + 0.006*light + 0.005*earth + 0.005*water + 0.005*food + 0.005*animals + 0.004*plants + 0.003*things + 0.003*energy + 0.003*live\n"
       ]
      },
      {
       "output_type": "stream",
       "stream": "stderr",
       "text": [
        "INFO:gensim.models.ldamodel:topic #9 (0.100): 0.012*band + 0.011*album + 0.010*music + 0.008*rgb + 0.008*hex + 0.008*league + 0.007*team + 0.007*rock + 0.006*released + 0.005*song\n"
       ]
      },
      {
       "output_type": "stream",
       "stream": "stderr",
       "text": [
        "INFO:gensim.models.ldamodel:topic diff=0.178260, rho=0.258199\n"
       ]
      },
      {
       "output_type": "stream",
       "stream": "stderr",
       "text": [
        "INFO:gensim.models.ldamodel:-8.645 per-word bound, 400.3 perplexity estimate based on a held-out corpus of 2000 documents with 324558 words\n"
       ]
      },
      {
       "output_type": "stream",
       "stream": "stderr",
       "text": [
        "INFO:gensim.models.ldamodel:PROGRESS: pass 3, at document #8000/8000\n"
       ]
      },
      {
       "output_type": "stream",
       "stream": "stderr",
       "text": [
        "INFO:gensim.models.ldamodel:merging changes from 2000 documents into a model of 8000 documents\n"
       ]
      },
      {
       "output_type": "stream",
       "stream": "stderr",
       "text": [
        "INFO:gensim.models.ldamodel:topic #0 (0.100): 0.018*music + 0.006*god + 0.006*church + 0.006*wrote + 0.003*word + 0.003*roman + 0.003*piano + 0.003*instruments + 0.003*play + 0.003*means\n"
       ]
      },
      {
       "output_type": "stream",
       "stream": "stderr",
       "text": [
        "INFO:gensim.models.ldamodel:topic #1 (0.100): 0.008*movie + 0.007*game + 0.006*series + 0.006*book + 0.005*story + 0.005*airlines + 0.005*books + 0.004*movies + 0.004*games + 0.004*air\n"
       ]
      },
      {
       "output_type": "stream",
       "stream": "stderr",
       "text": [
        "INFO:gensim.models.ldamodel:topic #2 (0.100): 0.007*government + 0.005*president + 0.005*party + 0.005*king + 0.005*army + 0.004*px + 0.004*france + 0.004*soviet + 0.004*union + 0.004*house\n"
       ]
      },
      {
       "output_type": "stream",
       "stream": "stderr",
       "text": [
        "INFO:gensim.models.ldamodel:topic #3 (0.100): 0.014*language + 0.011*india + 0.008*award + 0.007*languages + 0.006*empire + 0.005*al + 0.005*countries + 0.005*games + 0.005*pakistan + 0.004*country\n"
       ]
      },
      {
       "output_type": "stream",
       "stream": "stderr",
       "text": [
        "INFO:gensim.models.ldamodel:topic #4 (0.100): 0.009*actor + 0.009*german + 0.009*french + 0.008*british + 0.007*writer + 0.007*singer + 0.007*actress + 0.007*president + 0.007*footballer + 0.007*politician\n"
       ]
      },
      {
       "output_type": "stream",
       "stream": "stderr",
       "text": [
        "INFO:gensim.models.ldamodel:topic #5 (0.100): 0.007*island + 0.007*river + 0.007*country + 0.007*bc + 0.006*capital + 0.006*islands + 0.005*jpg + 0.005*east + 0.005*sea + 0.005*largest\n"
       ]
      },
      {
       "output_type": "stream",
       "stream": "stderr",
       "text": [
        "INFO:gensim.models.ldamodel:topic #6 (0.100): 0.013*person + 0.010*body + 0.007*blood + 0.005*disease + 0.005*women + 0.005*cells + 0.004*woman + 0.004*man + 0.004*cause + 0.004*sex\n"
       ]
      },
      {
       "output_type": "stream",
       "stream": "stderr",
       "text": [
        "INFO:gensim.models.ldamodel:topic #7 (0.100): 0.006*example + 0.004*windows + 0.004*chemical + 0.004*word + 0.004*means + 0.004*data + 0.003*things + 0.003*metal + 0.003*water + 0.003*uses\n"
       ]
      },
      {
       "output_type": "stream",
       "stream": "stderr",
       "text": [
        "INFO:gensim.models.ldamodel:topic #8 (0.100): 0.007*species + 0.005*water + 0.005*light + 0.005*animals + 0.005*food + 0.005*earth + 0.004*plants + 0.003*live + 0.003*eat + 0.003*space\n"
       ]
      },
      {
       "output_type": "stream",
       "stream": "stderr",
       "text": [
        "INFO:gensim.models.ldamodel:topic #9 (0.100): 0.013*band + 0.012*album + 0.010*music + 0.008*league + 0.008*team + 0.006*rgb + 0.006*rock + 0.006*hex + 0.006*song + 0.006*released\n"
       ]
      },
      {
       "output_type": "stream",
       "stream": "stderr",
       "text": [
        "INFO:gensim.models.ldamodel:topic diff=0.171268, rho=0.250000\n"
       ]
      },
      {
       "output_type": "stream",
       "stream": "stdout",
       "text": [
        "CPU times: user 2min 57s, sys: 212 ms, total: 2min 57s\n",
        "Wall time: 2min 57s\n"
       ]
      }
     ],
     "prompt_number": 96
    },
    {
     "cell_type": "code",
     "collapsed": false,
     "input": [
      "_ = lda_model.print_topics(-1)  # print all 10 LDA topics"
     ],
     "language": "python",
     "metadata": {},
     "outputs": [
      {
       "output_type": "stream",
       "stream": "stderr",
       "text": [
        "INFO:gensim.models.ldamodel:topic #0 (0.100): 0.018*music + 0.006*god + 0.006*church + 0.006*wrote + 0.003*word + 0.003*roman + 0.003*piano + 0.003*instruments + 0.003*play + 0.003*means\n"
       ]
      },
      {
       "output_type": "stream",
       "stream": "stderr",
       "text": [
        "INFO:gensim.models.ldamodel:topic #1 (0.100): 0.008*movie + 0.007*game + 0.006*series + 0.006*book + 0.005*story + 0.005*airlines + 0.005*books + 0.004*movies + 0.004*games + 0.004*air\n"
       ]
      },
      {
       "output_type": "stream",
       "stream": "stderr",
       "text": [
        "INFO:gensim.models.ldamodel:topic #2 (0.100): 0.007*government + 0.005*president + 0.005*party + 0.005*king + 0.005*army + 0.004*px + 0.004*france + 0.004*soviet + 0.004*union + 0.004*house\n"
       ]
      },
      {
       "output_type": "stream",
       "stream": "stderr",
       "text": [
        "INFO:gensim.models.ldamodel:topic #3 (0.100): 0.014*language + 0.011*india + 0.008*award + 0.007*languages + 0.006*empire + 0.005*al + 0.005*countries + 0.005*games + 0.005*pakistan + 0.004*country\n"
       ]
      },
      {
       "output_type": "stream",
       "stream": "stderr",
       "text": [
        "INFO:gensim.models.ldamodel:topic #4 (0.100): 0.009*actor + 0.009*german + 0.009*french + 0.008*british + 0.007*writer + 0.007*singer + 0.007*actress + 0.007*president + 0.007*footballer + 0.007*politician\n"
       ]
      },
      {
       "output_type": "stream",
       "stream": "stderr",
       "text": [
        "INFO:gensim.models.ldamodel:topic #5 (0.100): 0.007*island + 0.007*river + 0.007*country + 0.007*bc + 0.006*capital + 0.006*islands + 0.005*jpg + 0.005*east + 0.005*sea + 0.005*largest\n"
       ]
      },
      {
       "output_type": "stream",
       "stream": "stderr",
       "text": [
        "INFO:gensim.models.ldamodel:topic #6 (0.100): 0.013*person + 0.010*body + 0.007*blood + 0.005*disease + 0.005*women + 0.005*cells + 0.004*woman + 0.004*man + 0.004*cause + 0.004*sex\n"
       ]
      },
      {
       "output_type": "stream",
       "stream": "stderr",
       "text": [
        "INFO:gensim.models.ldamodel:topic #7 (0.100): 0.006*example + 0.004*windows + 0.004*chemical + 0.004*word + 0.004*means + 0.004*data + 0.003*things + 0.003*metal + 0.003*water + 0.003*uses\n"
       ]
      },
      {
       "output_type": "stream",
       "stream": "stderr",
       "text": [
        "INFO:gensim.models.ldamodel:topic #8 (0.100): 0.007*species + 0.005*water + 0.005*light + 0.005*animals + 0.005*food + 0.005*earth + 0.004*plants + 0.003*live + 0.003*eat + 0.003*space\n"
       ]
      },
      {
       "output_type": "stream",
       "stream": "stderr",
       "text": [
        "INFO:gensim.models.ldamodel:topic #9 (0.100): 0.013*band + 0.012*album + 0.010*music + 0.008*league + 0.008*team + 0.006*rgb + 0.006*rock + 0.006*hex + 0.006*song + 0.006*released\n"
       ]
      }
     ],
     "prompt_number": 100
    },
    {
     "cell_type": "markdown",
     "metadata": {},
     "source": [
      "Transformation can be stacked. For example, here we'll train a TFIDF model, and then train [Latent Semantic Analysis](http://en.wikipedia.org/wiki/Latent_semantic_analysis) on top of TFIDF:"
     ]
    },
    {
     "cell_type": "code",
     "collapsed": false,
     "input": [
      "%time tfidf_model = gensim.models.TfidfModel(wiki_corpus, id2word=id2word_wiki)\n",
      "%time lsi_model = gensim.models.LsiModel(tfidf_model[wiki_corpus], id2word=id2word_wiki, num_topics=100)"
     ],
     "language": "python",
     "metadata": {},
     "outputs": [
      {
       "output_type": "stream",
       "stream": "stderr",
       "text": [
        "INFO:gensim.models.tfidfmodel:collecting document frequencies\n"
       ]
      },
      {
       "output_type": "stream",
       "stream": "stderr",
       "text": [
        "INFO:gensim.models.tfidfmodel:PROGRESS: processing document #0\n"
       ]
      },
      {
       "output_type": "stream",
       "stream": "stderr",
       "text": [
        "INFO:gensim.models.tfidfmodel:calculating IDF weights for 8000 documents and 26644 features (1129859 matrix non-zeros)\n"
       ]
      },
      {
       "output_type": "stream",
       "stream": "stderr",
       "text": [
        "INFO:gensim.models.lsimodel:using serial LSI version on this node\n"
       ]
      },
      {
       "output_type": "stream",
       "stream": "stderr",
       "text": [
        "INFO:gensim.models.lsimodel:updating model with new documents\n"
       ]
      },
      {
       "output_type": "stream",
       "stream": "stderr",
       "text": [
        "INFO:gensim.models.lsimodel:preparing a new chunk of documents\n"
       ]
      },
      {
       "output_type": "stream",
       "stream": "stderr",
       "text": [
        "INFO:gensim.models.lsimodel:using 100 extra samples and 2 power iterations\n"
       ]
      },
      {
       "output_type": "stream",
       "stream": "stderr",
       "text": [
        "INFO:gensim.models.lsimodel:1st phase: constructing (26645, 200) action matrix\n"
       ]
      },
      {
       "output_type": "stream",
       "stream": "stderr",
       "text": [
        "INFO:gensim.models.lsimodel:orthonormalizing (26645, 200) action matrix\n"
       ]
      },
      {
       "output_type": "stream",
       "stream": "stderr",
       "text": [
        "INFO:gensim.models.lsimodel:2nd phase: running dense svd on (200, 8000) matrix\n"
       ]
      },
      {
       "output_type": "stream",
       "stream": "stderr",
       "text": [
        "INFO:gensim.models.lsimodel:computing the final decomposition\n"
       ]
      },
      {
       "output_type": "stream",
       "stream": "stderr",
       "text": [
        "INFO:gensim.models.lsimodel:keeping 100 factors (discarding 25.760% of energy spectrum)\n"
       ]
      },
      {
       "output_type": "stream",
       "stream": "stderr",
       "text": [
        "INFO:gensim.models.lsimodel:processed documents up to #8000\n"
       ]
      },
      {
       "output_type": "stream",
       "stream": "stderr",
       "text": [
        "INFO:gensim.models.lsimodel:topic #0(12.835): 0.239*\"actor\" + 0.225*\"footballer\" + 0.205*\"actress\" + 0.202*\"singer\" + 0.196*\"politician\" + 0.188*\"writer\" + 0.182*\"german\" + 0.175*\"british\" + 0.168*\"french\" + 0.160*\"player\"\n"
       ]
      },
      {
       "output_type": "stream",
       "stream": "stderr",
       "text": [
        "INFO:gensim.models.lsimodel:topic #1(7.016): 0.150*\"footballer\" + -0.134*\"music\" + 0.130*\"actor\" + 0.120*\"politician\" + 0.117*\"actress\" + 0.103*\"singer\" + -0.098*\"band\" + -0.096*\"language\" + 0.095*\"writer\" + -0.088*\"jpg\"\n"
       ]
      },
      {
       "output_type": "stream",
       "stream": "stderr",
       "text": [
        "INFO:gensim.models.lsimodel:topic #2(5.454): -0.236*\"king\" + 0.223*\"band\" + 0.217*\"music\" + 0.201*\"album\" + -0.157*\"january\" + -0.135*\"emperor\" + 0.132*\"singer\" + -0.131*\"february\" + -0.126*\"england\" + -0.125*\"april\"\n"
       ]
      },
      {
       "output_type": "stream",
       "stream": "stderr",
       "text": [
        "INFO:gensim.models.lsimodel:topic #3(5.269): 0.271*\"band\" + 0.249*\"album\" + 0.214*\"music\" + 0.211*\"january\" + 0.175*\"february\" + 0.162*\"april\" + 0.155*\"december\" + 0.149*\"november\" + 0.147*\"july\" + 0.144*\"october\"\n"
       ]
      },
      {
       "output_type": "stream",
       "stream": "stderr",
       "text": [
        "INFO:gensim.models.lsimodel:topic #4(4.657): 0.249*\"january\" + 0.191*\"february\" + -0.190*\"music\" + -0.180*\"king\" + 0.172*\"april\" + 0.169*\"december\" + -0.167*\"band\" + 0.151*\"november\" + 0.147*\"october\" + 0.147*\"july\"\n"
       ]
      },
      {
       "output_type": "stream",
       "stream": "stdout",
       "text": [
        "CPU times: user 8.39 s, sys: 19 ms, total: 8.4 s\n",
        "Wall time: 8.4 s\n",
        "CPU times: user 18.7 s, sys: 508 ms, total: 19.2 s"
       ]
      },
      {
       "output_type": "stream",
       "stream": "stdout",
       "text": [
        "\n",
        "Wall time: 14.6 s\n"
       ]
      }
     ],
     "prompt_number": 101
    },
    {
     "cell_type": "markdown",
     "metadata": {},
     "source": [
      "The `model[corpus]` syntax (e.g. `tfidf_model[wiki_corpus]` above) applies a transformation on a corpus, returning another corpus.\n",
      "\n",
      "As always, the transformations are applied \"lazily\", so the resulting corpus is streamed as well:"
     ]
    },
    {
     "cell_type": "code",
     "collapsed": false,
     "input": [
      "print(next(iter(lsi_model[tfidf_model[wiki_corpus]])))"
     ],
     "language": "python",
     "metadata": {},
     "outputs": [
      {
       "output_type": "stream",
       "stream": "stdout",
       "text": [
        "[(0, 0.13461365652284929), (1, -0.10280261773960224), (2, -0.17442142263902377), (3, 0.14973559754453269), (4, 0.14383556608422696), (5, -0.058521138415240044), (6, 0.051331049990827556), (7, -0.04192410908878344), (8, 0.034441350973794187), (9, 0.058211252911964592), (10, -0.04890555326727878), (11, 0.015216934947392374), (12, -0.026209487921365012), (13, 0.018862803766514818), (14, -0.013470316667344879), (15, -0.026519988084621707), (16, -0.0081354886427748418), (17, -0.00072623987114287718), (18, -0.013948554807920274), (19, -0.031052911323366416), (20, 0.0070958113103661421), (21, -0.0074776243034697576), (22, -0.0095693568784305134), (23, 0.01212033126927878), (24, -0.016678057983083618), (25, 0.004533998143586771), (26, -0.0064857141459292982), (27, 0.017628825368081566), (28, 0.036535906074342775), (29, -0.016672943435360157), (30, 0.00029264435849939174), (31, -0.0083551934610303098), (32, 0.0067638313676649433), (33, -0.023985817841007048), (34, -0.0010880581806430899), (35, -0.0034887403327388275), (36, 0.0048809131624685757), (37, 0.0012234839034700688), (38, 0.013067489365347887), (39, 0.015459007870525638), (40, 0.0038395508405215588), (41, -0.0099782136571290748), (42, 0.0070176852297482457), (43, -6.55905108801892e-05), (44, -0.0097229393003389428), (45, 0.0030339466670294968), (46, 0.0027046258706524655), (47, -0.014634002262691218), (48, -0.047188622880290049), (49, -0.0081497192916893963), (50, 0.0093504105096816146), (51, -0.00016533334492577873), (52, -0.00549215404662033), (53, 0.0031729144562272051), (54, -0.029858765858281663), (55, -0.0068517079269402262), (56, -0.019306581962691315), (57, -0.0041509977280446333), (58, -0.0090305319178305681), (59, -0.026294482724256874), (60, 0.0023765683659814343), (61, -0.0032067279151405852), (62, -0.0018570897606912829), (63, 0.011749531833864207), (64, 0.015430966996005019), (65, -0.011439580771539781), (66, 0.020004997032119928), (67, -0.011077319931683966), (68, -0.0069647218880923957), (69, 0.0059182894721860552), (70, 0.012421961327309107), (71, 0.0086372881678591102), (72, -0.029416813056335166), (73, 0.016635120649529482), (74, 0.0031137539532734102), (75, -0.017194323687772899), (76, 0.0095430103092416264), (77, 0.0062238714439940123), (78, -0.0092340189978815154), (79, 0.018833287476855847), (80, -0.025859160262857478), (81, 0.06313171009215221), (82, 0.014403885935264061), (83, 0.00044814275663974436), (84, 0.022936280953420114), (85, 0.0085751611029926435), (86, -0.0022555575196062747), (87, -0.056656570119897255), (88, -0.0080900978790209715), (89, 0.003074691168905427), (90, -0.051475928321670542), (91, -0.073544680902649262), (92, 0.0071704075115191675), (93, 0.02889327333937931), (94, 0.051150491511452234), (95, 0.030412181571617229), (96, 0.0090518877174777575), (97, 0.003410719657767845), (98, 0.020647055076984954), (99, -0.015498339683313782)]\n"
       ]
      }
     ],
     "prompt_number": 103
    },
    {
     "cell_type": "markdown",
     "metadata": {},
     "source": [
      "We can store this \"LSA via TFIDF via bag-of-words\" corpus the same way again:"
     ]
    },
    {
     "cell_type": "code",
     "collapsed": false,
     "input": [
      "gensim.corpora.MmCorpus.serialize('./data/wiki_lsa.mm', lsi_model[tfidf_model[wiki_corpus]])"
     ],
     "language": "python",
     "metadata": {},
     "outputs": [
      {
       "output_type": "stream",
       "stream": "stderr",
       "text": [
        "INFO:gensim.corpora.mmcorpus:storing corpus in Matrix Market format to ./data/wiki_lsa.mm\n"
       ]
      },
      {
       "output_type": "stream",
       "stream": "stderr",
       "text": [
        "INFO:gensim.matutils:saving sparse matrix to ./data/wiki_lsa.mm\n"
       ]
      },
      {
       "output_type": "stream",
       "stream": "stderr",
       "text": [
        "INFO:gensim.matutils:PROGRESS: saving document #0\n"
       ]
      },
      {
       "output_type": "stream",
       "stream": "stderr",
       "text": [
        "INFO:gensim.matutils:PROGRESS: saving document #1000\n"
       ]
      },
      {
       "output_type": "stream",
       "stream": "stderr",
       "text": [
        "INFO:gensim.matutils:PROGRESS: saving document #2000\n"
       ]
      },
      {
       "output_type": "stream",
       "stream": "stderr",
       "text": [
        "INFO:gensim.matutils:PROGRESS: saving document #3000\n"
       ]
      },
      {
       "output_type": "stream",
       "stream": "stderr",
       "text": [
        "INFO:gensim.matutils:PROGRESS: saving document #4000\n"
       ]
      },
      {
       "output_type": "stream",
       "stream": "stderr",
       "text": [
        "INFO:gensim.matutils:PROGRESS: saving document #5000\n"
       ]
      },
      {
       "output_type": "stream",
       "stream": "stderr",
       "text": [
        "INFO:gensim.matutils:PROGRESS: saving document #6000\n"
       ]
      },
      {
       "output_type": "stream",
       "stream": "stderr",
       "text": [
        "INFO:gensim.matutils:PROGRESS: saving document #7000\n"
       ]
      },
      {
       "output_type": "stream",
       "stream": "stderr",
       "text": [
        "INFO:gensim.matutils:saved 8000x100 matrix, density=100.000% (800000/800000)\n"
       ]
      },
      {
       "output_type": "stream",
       "stream": "stderr",
       "text": [
        "INFO:gensim.corpora.indexedcorpus:saving MmCorpus index to ./data/wiki_lsa.mm.index\n"
       ]
      }
     ],
     "prompt_number": 104
    },
    {
     "cell_type": "markdown",
     "metadata": {},
     "source": [
      "Persisting the corpus to disk makes sense if we want to iterate over the corpus multiple times. As before, the result is indistinguishable from when it's computed on the fly, so this is conceptually a form of corpus caching:"
     ]
    },
    {
     "cell_type": "code",
     "collapsed": false,
     "input": [
      "lsi_corpus = gensim.corpora.MmCorpus('./data/wiki_lsa.mm')\n",
      "# `lsi_corpus` is now exactly the same stream as `lsi_model[tfidf_model[wiki_corpus]]`, but precomputed\n",
      "print(lsi_corpus)"
     ],
     "language": "python",
     "metadata": {},
     "outputs": [
      {
       "output_type": "stream",
       "stream": "stderr",
       "text": [
        "INFO:gensim.corpora.indexedcorpus:loaded corpus index from ./data/wiki_lsa.mm.index\n"
       ]
      },
      {
       "output_type": "stream",
       "stream": "stderr",
       "text": [
        "INFO:gensim.matutils:initializing corpus reader from ./data/wiki_lsa.mm\n"
       ]
      },
      {
       "output_type": "stream",
       "stream": "stderr",
       "text": [
        "INFO:gensim.matutils:accepted corpus with 8000 documents, 100 features, 800000 non-zero entries\n"
       ]
      },
      {
       "output_type": "stream",
       "stream": "stdout",
       "text": [
        "MmCorpus(8000 documents, 100 features, 800000 non-zero entries)\n"
       ]
      }
     ],
     "prompt_number": 106
    },
    {
     "cell_type": "markdown",
     "metadata": {},
     "source": [
      "More info on model parameters in [gensim docs](http://radimrehurek.com/gensim/models/lsimodel.html)."
     ]
    },
    {
     "cell_type": "heading",
     "level": 2,
     "metadata": {},
     "source": [
      "Model persistence"
     ]
    },
    {
     "cell_type": "markdown",
     "metadata": {},
     "source": [
      "Gensim objects have `save/load` methods for persisting a model to disk, so it can be re-used later (or sent over network to a different computer, or whatever):"
     ]
    },
    {
     "cell_type": "code",
     "collapsed": false,
     "input": [
      "# store the model to disk\n",
      "lda_model.save('./data/lda_wiki.model')\n",
      "\n",
      "# load the same model back\n",
      "same_model = gensim.models.LdaModel.load('./data/lda_wiki.model')"
     ],
     "language": "python",
     "metadata": {},
     "outputs": [
      {
       "output_type": "stream",
       "stream": "stderr",
       "text": [
        "INFO:gensim.utils:saving LdaState object under ./data/lda_wiki.model.state, separately None\n"
       ]
      },
      {
       "output_type": "stream",
       "stream": "stderr",
       "text": [
        "INFO:gensim.utils:saving LdaModel object under ./data/lda_wiki.model, separately None\n"
       ]
      },
      {
       "output_type": "stream",
       "stream": "stderr",
       "text": [
        "INFO:gensim.utils:not storing attribute state\n"
       ]
      },
      {
       "output_type": "stream",
       "stream": "stderr",
       "text": [
        "INFO:gensim.utils:not storing attribute dispatcher\n"
       ]
      },
      {
       "output_type": "stream",
       "stream": "stderr",
       "text": [
        "INFO:gensim.utils:loading LdaModel object from ./data/lda_wiki.model\n"
       ]
      },
      {
       "output_type": "stream",
       "stream": "stderr",
       "text": [
        "INFO:gensim.utils:setting ignored attribute state to None\n"
       ]
      },
      {
       "output_type": "stream",
       "stream": "stderr",
       "text": [
        "INFO:gensim.utils:setting ignored attribute dispatcher to None\n"
       ]
      },
      {
       "output_type": "stream",
       "stream": "stderr",
       "text": [
        "INFO:gensim.utils:loading LdaModel object from ./data/lda_wiki.model.state\n"
       ]
      }
     ],
     "prompt_number": 107
    },
    {
     "cell_type": "markdown",
     "metadata": {},
     "source": [
      "These methods are optimized for storing large models; internal matrices that consume a lot of RAM are [mmap](http://en.wikipedia.org/wiki/Mmap)'ed in read-only mode. This allows \"sharing\" a single model between several processes, through the OS's virtual memory management, saving all physical memory except for a single copy."
     ]
    },
    {
     "cell_type": "heading",
     "level": 2,
     "metadata": {},
     "source": [
      "Evaluation"
     ]
    },
    {
     "cell_type": "markdown",
     "metadata": {},
     "source": [
      "Eyeballing; perplexity; doppleganger. Performance on superordinate task (similarity)."
     ]
    },
    {
     "cell_type": "heading",
     "level": 2,
     "metadata": {},
     "source": [
      "Summary"
     ]
    },
    {
     "cell_type": "markdown",
     "metadata": {},
     "source": [
      "* create an id => word mapping, aka dictionary\n",
      "* transform a document stream into a vector stream\n",
      "* transform between vector streams, using topic models\n",
      "* store and save models, for persistency"
     ]
    }
   ],
   "metadata": {}
  }
 ]
}