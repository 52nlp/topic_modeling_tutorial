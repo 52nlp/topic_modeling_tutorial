{
 "metadata": {
  "name": "",
  "signature": "sha256:40df5ba96b48ad1fd49ade0c18ebcf590a556e15922cad6dd770b5b9961efc68"
 },
 "nbformat": 3,
 "nbformat_minor": 0,
 "worksheets": [
  {
   "cells": [
    {
     "cell_type": "heading",
     "level": 1,
     "metadata": {},
     "source": [
      "Topic Modeling for Fun and Profit"
     ]
    },
    {
     "cell_type": "heading",
     "level": 2,
     "metadata": {},
     "source": [
      "Tutorial setup"
     ]
    },
    {
     "cell_type": "markdown",
     "metadata": {},
     "source": [
      "Check all dependencies are installed correctly (see the [README](https://github.com/piskvorky/topic_modeling_tutorial/)) (highlight each cell with your mouse and press SHIFT+ENTER):"
     ]
    },
    {
     "cell_type": "code",
     "collapsed": false,
     "input": [
      "import numpy"
     ],
     "language": "python",
     "metadata": {},
     "outputs": [],
     "prompt_number": 1
    },
    {
     "cell_type": "code",
     "collapsed": false,
     "input": [
      "import scipy"
     ],
     "language": "python",
     "metadata": {},
     "outputs": [],
     "prompt_number": 2
    },
    {
     "cell_type": "code",
     "collapsed": false,
     "input": [
      "import gensim"
     ],
     "language": "python",
     "metadata": {},
     "outputs": [],
     "prompt_number": 3
    },
    {
     "cell_type": "markdown",
     "metadata": {},
     "source": [
      "If the above executes without errors, you'll see a number appear next to each prompt and you're good to go!"
     ]
    },
    {
     "cell_type": "markdown",
     "metadata": {},
     "source": [
      "In case you're using [virtual evironments](http://docs.python-guide.org/en/latest/dev/virtualenvs/) (recommended), check that the right package/location was picked up by Python:"
     ]
    },
    {
     "cell_type": "code",
     "collapsed": false,
     "input": [
      "print(scipy.__version__, scipy.__file__)\n",
      "print(gensim.__version__, gensim.__file__)\n",
      "scipy.show_config()"
     ],
     "language": "python",
     "metadata": {},
     "outputs": [
      {
       "output_type": "stream",
       "stream": "stdout",
       "text": [
        "('0.14.0', '/Users/kofola/miniconda/envs/europy14/lib/python2.7/site-packages/scipy/__init__.pyc')\n",
        "('0.10.0', '/Users/kofola/workspace/gensim/trunk/gensim/__init__.pyc')\n",
        "atlas_threads_info:\n",
        "  NOT AVAILABLE\n",
        "blas_opt_info:\n",
        "    extra_link_args = ['-Wl,-framework', '-Wl,Accelerate']\n",
        "    extra_compile_args = ['-msse3', '-I/System/Library/Frameworks/vecLib.framework/Headers']\n",
        "    define_macros = [('NO_ATLAS_INFO', 3)]\n",
        "atlas_blas_threads_info:\n",
        "  NOT AVAILABLE\n",
        "openblas_info:\n",
        "  NOT AVAILABLE\n",
        "lapack_opt_info:\n",
        "    extra_link_args = ['-Wl,-framework', '-Wl,Accelerate']\n",
        "    extra_compile_args = ['-msse3']\n",
        "    define_macros = [('NO_ATLAS_INFO', 3)]\n",
        "atlas_info:\n",
        "  NOT AVAILABLE\n",
        "lapack_mkl_info:\n",
        "  NOT AVAILABLE\n",
        "blas_mkl_info:\n",
        "  NOT AVAILABLE\n",
        "atlas_blas_info:\n",
        "  NOT AVAILABLE\n",
        "mkl_info:\n",
        "  NOT AVAILABLE\n"
       ]
      }
     ],
     "prompt_number": 11
    },
    {
     "cell_type": "heading",
     "level": 2,
     "metadata": {},
     "source": [
      "Check training data"
     ]
    },
    {
     "cell_type": "markdown",
     "metadata": {},
     "source": [
      "Make sure you have downloaded all necessary data files (again, see the [README](https://github.com/piskvorky/topic_modeling_tutorial/)):"
     ]
    },
    {
     "cell_type": "code",
     "collapsed": false,
     "input": [
      "!ls -lh ./data/"
     ],
     "language": "python",
     "metadata": {},
     "outputs": [
      {
       "output_type": "stream",
       "stream": "stdout",
       "text": [
        "total 195384\r\n",
        "-rw-r--r--  1 kofola  staff   163B Jul 14 12:59 README.md\r\n",
        "-rw-r--r--  1 kofola  staff    95M Jul 14 15:06 simplewiki-20140623-pages-articles.xml.bz2\r\n"
       ]
      }
     ],
     "prompt_number": 14
    },
    {
     "cell_type": "markdown",
     "metadata": {},
     "source": [
      "You should see at least two entries there: `simplewiki-20140623-pages-articles.xml.bz2` and `README.md`. FIXME"
     ]
    },
    {
     "cell_type": "heading",
     "level": 2,
     "metadata": {},
     "source": [
      "Quick Python recap"
     ]
    },
    {
     "cell_type": "heading",
     "level": 4,
     "metadata": {},
     "source": [
      "Data streaming, generators, iterators"
     ]
    },
    {
     "cell_type": "markdown",
     "metadata": {},
     "source": [
      "Generators are a way built-in way to iterate over a sequence **once**, without materializing all its elements at once:"
     ]
    },
    {
     "cell_type": "code",
     "collapsed": false,
     "input": [
      "def odd_numbers():\n",
      "    \"\"\"\n",
      "    Yield one odd number after another.\n",
      "    \n",
      "    Don't try to materialize its result in plain list, with `list(odd_numbers)`,\n",
      "    because the sequence is infinite and you'll run out of RAM!\n",
      "    \"\"\"\n",
      "    result = 1\n",
      "    while True:\n",
      "        yield result  # `yield` instead of `return`!\n",
      "        result += 2\n",
      "\n",
      "odd_numbers_generator = odd_numbers()\n",
      "\n",
      "for odd_number in odd_numbers_generator:\n",
      "    print(odd_number)\n",
      "    if odd_number > 10:\n",
      "        break"
     ],
     "language": "python",
     "metadata": {},
     "outputs": [
      {
       "output_type": "stream",
       "stream": "stdout",
       "text": [
        "1\n",
        "3\n",
        "5\n",
        "7\n",
        "9\n",
        "11\n"
       ]
      }
     ],
     "prompt_number": 40
    },
    {
     "cell_type": "markdown",
     "metadata": {},
     "source": [
      "We'll be using this pattern of \"generate a data point, process it, forget it\" often, because it allows us to bypass RAM limitations. With generators we can process huge text corpora in constant memory, using clever algorithms that don't mind operating one-data-point-at-a-time.\n",
      "\n",
      "This is in contrast to plain Python lists, Pandas frames or even NumPy and SciPy arrays, where the entire sequence must be known beforehand and mapped into (virtual) memory fully.\n",
      "\n",
      "Generators and iterators come at a cost: since we're only allowed to go one item after another, it's not possible to skip to the middle of the sequence. Unless we take care of it manually, there's no equivalent of randomly accessing an arbitrary element ala `list`s: `some_list[100]` will work, but `some_generator[100]` won't."
     ]
    },
    {
     "cell_type": "markdown",
     "metadata": {},
     "source": [
      "An iterable is like a generator (memory efficient), except it can be iterated over **multiple times**. To achieve that, we override the object's special `__iter__` method, which is called every time we loop over the object and returns a generator:"
     ]
    },
    {
     "cell_type": "code",
     "collapsed": false,
     "input": [
      "class OddNumbers(object):\n",
      "    def __iter__(self):\n",
      "        result = 1\n",
      "        while True:\n",
      "            yield result\n",
      "            result += 2\n",
      "\n",
      "odd_numbers_iterator = OddNumbers()\n",
      "\n",
      "for odd_number in odd_numbers_iterator:\n",
      "    print(odd_number)\n",
      "    if odd_number > 10:\n",
      "        break"
     ],
     "language": "python",
     "metadata": {},
     "outputs": [
      {
       "output_type": "stream",
       "stream": "stdout",
       "text": [
        "1\n",
        "3\n",
        "5\n",
        "7\n",
        "9\n",
        "11\n"
       ]
      }
     ],
     "prompt_number": 39
    },
    {
     "cell_type": "markdown",
     "metadata": {},
     "source": [
      "That's all we need to know for our purposes. For more info, read [Data streaming in Python: generators, iterators, iterables](http://radimrehurek.com/2014/03/data-streaming-in-python-generators-iterators-iterables/), or [Python's documentation for \"iterator types\"](https://docs.python.org/2/library/stdtypes.html#iterator-types)."
     ]
    },
    {
     "cell_type": "heading",
     "level": 4,
     "metadata": {},
     "source": [
      "NumPy & SciPy arrays"
     ]
    },
    {
     "cell_type": "markdown",
     "metadata": {},
     "source": [
      "NumPy is a 3rd party package (not built-in). **NumPy arrays are a concise and efficient way to represent a fixed-length list of numbers** (or, actually and uninterestingly for this tutorial, of any objects). Their power comes from pithy array slicing, even in multiple dimensions:"
     ]
    },
    {
     "cell_type": "code",
     "collapsed": false,
     "input": [
      "# create a 2D table of random numbers, with 10 rows and 5 columns\n",
      "x = numpy.random.rand(10, 5)\n",
      "\n",
      "print(x)"
     ],
     "language": "python",
     "metadata": {},
     "outputs": [
      {
       "output_type": "stream",
       "stream": "stdout",
       "text": [
        "[[ 0.37700585  0.04265883  0.80634867  0.24041675  0.15540421]\n",
        " [ 0.57741273  0.5225197   0.23542349  0.32618644  0.41922779]\n",
        " [ 0.51778766  0.56858961  0.42283938  0.04985125  0.09162493]\n",
        " [ 0.56484667  0.72748362  0.22297525  0.58968865  0.20805688]\n",
        " [ 0.92923571  0.80386156  0.55190302  0.22848322  0.34195155]\n",
        " [ 0.49145911  0.38420399  0.09135213  0.38402657  0.3666477 ]\n",
        " [ 0.36100536  0.4367409   0.65533892  0.14479873  0.73371843]\n",
        " [ 0.81660595  0.75880354  0.9954285   0.81501151  0.92174052]\n",
        " [ 0.58911811  0.26201923  0.3227302   0.4981016   0.11167494]\n",
        " [ 0.38359603  0.78367644  0.53923479  0.37484749  0.67282066]]\n"
       ]
      }
     ],
     "prompt_number": 30
    },
    {
     "cell_type": "code",
     "collapsed": false,
     "input": [
      "# print element in 3rd row and 2nd column\n",
      "print(x[2, 1])  "
     ],
     "language": "python",
     "metadata": {},
     "outputs": [
      {
       "output_type": "stream",
       "stream": "stdout",
       "text": [
        "0.568589606657\n"
       ]
      }
     ],
     "prompt_number": 31
    },
    {
     "cell_type": "code",
     "collapsed": false,
     "input": [
      "# print the entire 3rd row\n",
      "print(x[2])"
     ],
     "language": "python",
     "metadata": {},
     "outputs": [
      {
       "output_type": "stream",
       "stream": "stdout",
       "text": [
        "[ 0.51778766  0.56858961  0.42283938  0.04985125  0.09162493]\n"
       ]
      }
     ],
     "prompt_number": 32
    },
    {
     "cell_type": "code",
     "collapsed": false,
     "input": [
      "# print the entire 2nd column\n",
      "print(x[:, 1])"
     ],
     "language": "python",
     "metadata": {},
     "outputs": [
      {
       "output_type": "stream",
       "stream": "stdout",
       "text": [
        "[ 0.04265883  0.5225197   0.56858961  0.72748362  0.80386156  0.38420399\n",
        "  0.4367409   0.75880354  0.26201923  0.78367644]\n"
       ]
      }
     ],
     "prompt_number": 33
    },
    {
     "cell_type": "code",
     "collapsed": false,
     "input": [
      "# print a sub-table (rectangular region), starting at [0, 0] and ending at [4, 2] (exclusive)\n",
      "print(x[:4, :2])"
     ],
     "language": "python",
     "metadata": {},
     "outputs": [
      {
       "output_type": "stream",
       "stream": "stdout",
       "text": [
        "[[ 0.37700585  0.04265883]\n",
        " [ 0.57741273  0.5225197 ]\n",
        " [ 0.51778766  0.56858961]\n",
        " [ 0.56484667  0.72748362]]\n"
       ]
      }
     ],
     "prompt_number": 34
    },
    {
     "cell_type": "markdown",
     "metadata": {},
     "source": [
      "and the fact that the underlying implementation is written to be fast (in C, even plugging into fast BLAS where available)."
     ]
    },
    {
     "cell_type": "markdown",
     "metadata": {},
     "source": [
      "Similarly, the **3rd part SciPy package contains `scipy.sparse` arrays**, which are a way to represent vectors and matrices with assumed (implicit) zeros.\n",
      "\n",
      "`scipy.sparse` arrays are not as efficient as NumPy arrays, because they don't plug into BLAS and because their memory access patterns are more involved (cache misses). But not materializing the zeros explicitly can make a huge difference for very sparse arrays (lots of zeros). However, all non-zero values must still reside in memory, so ultimately, for large data, we still resort to generators and data streaming.\n",
      "\n",
      "A common pattern that we'll be using is **combining the efficiency of in-memory arrays** (numpy, scipy.sparse) with the **scalability of data streaming**. Instead of processing one document at a time (slow), or all documents at once (non-scalable), we'll be reading **a chunk of documents** into RAM (= as many documents as RAM allows), processing this chunk, and then streaming a new chunk into RAM."
     ]
    }
   ],
   "metadata": {}
  }
 ]
}