{
 "metadata": {
  "name": "",
  "signature": "sha256:417e8665935a954789eb5576a94b800395738e450b6b77e9c294c57439073dea"
 },
 "nbformat": 3,
 "nbformat_minor": 0,
 "worksheets": [
  {
   "cells": [
    {
     "cell_type": "heading",
     "level": 1,
     "metadata": {},
     "source": [
      "Topic Modeling for Fun and Profit"
     ]
    },
    {
     "cell_type": "heading",
     "level": 2,
     "metadata": {},
     "source": [
      "Tutorial setup"
     ]
    },
    {
     "cell_type": "markdown",
     "metadata": {},
     "source": [
      "To run the training notebooks, we'll need a few Python packages. Install them with"
     ]
    },
    {
     "cell_type": "markdown",
     "metadata": {},
     "source": [
      "```bash\n",
      "$ pip install six cython ipython[notebook] numpy scipy\n",
      "$ pip install gensim\n",
      "```"
     ]
    },
    {
     "cell_type": "markdown",
     "metadata": {},
     "source": [
      "In case some of these depedencies give you trouble (SciPy in particular can be unruly), see their documentation ( http://www.scipy.org/install.html ) or contact me. You don't need to install the very latest versions (though it doesn't hurt)."
     ]
    },
    {
     "cell_type": "markdown",
     "metadata": {},
     "source": [
      "Make sure you have all dependencies installed (see the README):"
     ]
    },
    {
     "cell_type": "code",
     "collapsed": false,
     "input": [
      "import numpy"
     ],
     "language": "python",
     "metadata": {},
     "outputs": []
    },
    {
     "cell_type": "code",
     "collapsed": false,
     "input": [
      "import scipy"
     ],
     "language": "python",
     "metadata": {},
     "outputs": []
    },
    {
     "cell_type": "code",
     "collapsed": false,
     "input": [
      "import gensim"
     ],
     "language": "python",
     "metadata": {},
     "outputs": []
    },
    {
     "cell_type": "markdown",
     "metadata": {},
     "source": [
      "If the above executes without errors, you're good to go."
     ]
    },
    {
     "cell_type": "heading",
     "level": 4,
     "metadata": {},
     "source": [
      "Trouble with the dependencies?"
     ]
    },
    {
     "cell_type": "markdown",
     "metadata": {},
     "source": [
      "SciPy in particular can be unruly. See its documentation at http://www.scipy.org/install.html or contact me. You don't need to install the very latest versions of these packaages (though it doesn't hurt). You'll need SciPy >= 0.7 and gensim >= 0.10."
     ]
    },
    {
     "cell_type": "markdown",
     "metadata": {},
     "source": [
      "Check install location, package version and config:"
     ]
    },
    {
     "cell_type": "code",
     "collapsed": false,
     "input": [
      "scipy.__file__"
     ],
     "language": "python",
     "metadata": {},
     "outputs": [
      {
       "metadata": {},
       "output_type": "pyout",
       "prompt_number": 8,
       "text": [
        "'/Users/kofola/miniconda/envs/europy14/lib/python2.7/site-packages/scipy/__init__.pyc'"
       ]
      }
     ],
     "prompt_number": 8
    },
    {
     "cell_type": "code",
     "collapsed": false,
     "input": [
      "scipy.__version__"
     ],
     "language": "python",
     "metadata": {},
     "outputs": [
      {
       "metadata": {},
       "output_type": "pyout",
       "prompt_number": 9,
       "text": [
        "'0.14.0'"
       ]
      }
     ],
     "prompt_number": 9
    },
    {
     "cell_type": "code",
     "collapsed": false,
     "input": [
      "print(scipy.show_config())"
     ],
     "language": "python",
     "metadata": {},
     "outputs": [
      {
       "output_type": "stream",
       "stream": "stdout",
       "text": [
        "atlas_threads_info:\n",
        "  NOT AVAILABLE\n",
        "blas_opt_info:\n",
        "    extra_link_args = ['-Wl,-framework', '-Wl,Accelerate']\n",
        "    extra_compile_args = ['-msse3', '-I/System/Library/Frameworks/vecLib.framework/Headers']\n",
        "    define_macros = [('NO_ATLAS_INFO', 3)]\n",
        "atlas_blas_threads_info:\n",
        "  NOT AVAILABLE\n",
        "openblas_info:\n",
        "  NOT AVAILABLE\n",
        "lapack_opt_info:\n",
        "    extra_link_args = ['-Wl,-framework', '-Wl,Accelerate']\n",
        "    extra_compile_args = ['-msse3']\n",
        "    define_macros = [('NO_ATLAS_INFO', 3)]\n",
        "atlas_info:\n",
        "  NOT AVAILABLE\n",
        "lapack_mkl_info:\n",
        "  NOT AVAILABLE\n",
        "blas_mkl_info:\n",
        "  NOT AVAILABLE\n",
        "atlas_blas_info:\n",
        "  NOT AVAILABLE\n",
        "mkl_info:\n",
        "  NOT AVAILABLE\n",
        "None\n"
       ]
      }
     ],
     "prompt_number": 10
    },
    {
     "cell_type": "heading",
     "level": 2,
     "metadata": {},
     "source": [
      "Download Training Data"
     ]
    },
    {
     "cell_type": "markdown",
     "metadata": {},
     "source": [
      "The training uses a few FIXME datasets. Download them with:\n",
      "\n",
      "```bash\n",
      "$ wget 'http://dumps.wikimedia.org/simplewiki/20140623/simplewiki-20140623-pages-articles.xml.bz2'\n",
      "```"
     ]
    },
    {
     "cell_type": "heading",
     "level": 2,
     "metadata": {},
     "source": [
      "Target audience"
     ]
    },
    {
     "cell_type": "markdown",
     "metadata": {},
     "source": [
      "Experience with SciPy and NumPy. Their installation can be tricky (SciPy in particular), so install those in advance to avoid troubleshooting dependencies during the training itself. This is especially true if you'll be **using Windows for the training**, because my experience with Python setup & debugging on Windows is limited."
     ]
    },
    {
     "cell_type": "markdown",
     "metadata": {},
     "source": [
      "1. intro, ice breaker, objectives\n",
      "* open README\n",
      "* any windows users?\n",
      "* notebook with requirements: load numpy, scipy, nltk\n",
      "  - http://conda.pydata.org/miniconda.html\n",
      "  - show cell execution, focus, shift+enter, number next to cell vs. asterisk\n",
      "* download simplewiki dataset (or commit directly to repo?)\n",
      "* expect previous exp with numpy/scipy\n",
      "* unsupervised learning: more exciting; not as neat as supervised (we don't know the \"right\" output, no labels)\n",
      "* break after each hour"
     ]
    },
    {
     "cell_type": "heading",
     "level": 2,
     "metadata": {},
     "source": [
      "Tutorial objectives"
     ]
    },
    {
     "cell_type": "heading",
     "level": 2,
     "metadata": {},
     "source": [
      "Quick Python recap"
     ]
    },
    {
     "cell_type": "markdown",
     "metadata": {},
     "source": [
      "big data: lazy access, streaming => generators, iterators\n",
      "\n",
      "numpy arrays"
     ]
    },
    {
     "cell_type": "markdown",
     "metadata": {},
     "source": [
      "2. python recap: generators, iterators, iterables\n",
      "* big data\n",
      "* no pandas or numpy / scipy arrays or such\n",
      "* luckily python supports generators, \"built-in\" => nice, simple syntax"
     ]
    },
    {
     "cell_type": "markdown",
     "metadata": {},
     "source": [
      "3. gensim\n",
      "- philosophy: library, leave user behind the wheel\n",
      "- focus on engineering and practicality (vs. academic implementations)\n",
      "- common utils factored out (grouping...), simple interfaces\n",
      "- recommended patterns"
     ]
    },
    {
     "cell_type": "markdown",
     "metadata": {},
     "source": [
      "3. textblob, nltk\n",
      "* http://blog.cigrainger.com/2014/07/lda-number.html"
     ]
    },
    {
     "cell_type": "markdown",
     "metadata": {},
     "source": [
      "4. lda\n",
      "- simple wiki, because of time\n",
      "- BUT: already memory independent, same structure => full wiki justby swapping out filename\n",
      "\n",
      "tasks:\n",
      "* create corpus\n",
      "  - feature vectors; documents => vectors; domain specific\n",
      "  - streamed! no unzipping\n",
      "* optimize\n",
      "* tune parameters, model selection\n",
      "  - doppelganger, split documents\n",
      "  - the `passes` parameter\n",
      "\n",
      "* little exercises (fill in corpus class, model selection)"
     ]
    }
   ],
   "metadata": {}
  }
 ]
}